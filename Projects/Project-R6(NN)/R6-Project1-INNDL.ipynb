{
 "cells": [
  {
   "cell_type": "code",
   "execution_count": 1,
   "metadata": {
    "colab": {
     "base_uri": "https://localhost:8080/",
     "height": 63
    },
    "colab_type": "code",
    "executionInfo": {
     "elapsed": 4021,
     "status": "ok",
     "timestamp": 1580642031638,
     "user": {
      "displayName": "Karthik Bramhambhatla",
      "photoUrl": "",
      "userId": "08439150467609654547"
     },
     "user_tz": -330
    },
    "id": "-ab4zMBdAGbm",
    "outputId": "d52ed628-66cc-4140-fb2a-430795d68f3b"
   },
   "outputs": [
    {
     "data": {
      "text/html": [
       "<p style=\"color: red;\">\n",
       "The default version of TensorFlow in Colab will soon switch to TensorFlow 2.x.<br>\n",
       "We recommend you <a href=\"https://www.tensorflow.org/guide/migrate\" target=\"_blank\">upgrade</a> now \n",
       "or ensure your notebook will continue to use TensorFlow 1.x via the <code>%tensorflow_version 1.x</code> magic:\n",
       "<a href=\"https://colab.research.google.com/notebooks/tensorflow_version.ipynb\" target=\"_blank\">more info</a>.</p>\n"
      ],
      "text/plain": [
       "<IPython.core.display.HTML object>"
      ]
     },
     "metadata": {
      "tags": []
     },
     "output_type": "display_data"
    }
   ],
   "source": [
    "import tensorflow as tf"
   ]
  },
  {
   "cell_type": "code",
   "execution_count": 0,
   "metadata": {
    "colab": {},
    "colab_type": "code",
    "id": "8z-J1L9mATZw"
   },
   "outputs": [],
   "source": [
    "#Enable Eager Execution if using tensflow version < 2.0\n",
    "#From tensorflow v2.0 onwards, Eager Execution will be enabled by default\n",
    "#tf.executing_eagerly()\n",
    "tf.compat.v1.enable_eager_execution(\n",
    "    config=None,\n",
    "    device_policy=None,\n",
    "    execution_mode=None\n",
    ")"
   ]
  },
  {
   "cell_type": "code",
   "execution_count": 3,
   "metadata": {
    "colab": {
     "base_uri": "https://localhost:8080/",
     "height": 34
    },
    "colab_type": "code",
    "executionInfo": {
     "elapsed": 4011,
     "status": "ok",
     "timestamp": 1580642031639,
     "user": {
      "displayName": "Karthik Bramhambhatla",
      "photoUrl": "",
      "userId": "08439150467609654547"
     },
     "user_tz": -330
    },
    "id": "9XL7bnfFAYpd",
    "outputId": "3ec1a6c0-91d4-4ab3-8160-34347ff82155"
   },
   "outputs": [
    {
     "data": {
      "text/plain": [
       "'1.15.0'"
      ]
     },
     "execution_count": 3,
     "metadata": {
      "tags": []
     },
     "output_type": "execute_result"
    }
   ],
   "source": [
    "tf.__version__"
   ]
  },
  {
   "cell_type": "code",
   "execution_count": 4,
   "metadata": {
    "colab": {
     "base_uri": "https://localhost:8080/",
     "height": 34
    },
    "colab_type": "code",
    "executionInfo": {
     "elapsed": 3999,
     "status": "ok",
     "timestamp": 1580642031640,
     "user": {
      "displayName": "Karthik Bramhambhatla",
      "photoUrl": "",
      "userId": "08439150467609654547"
     },
     "user_tz": -330
    },
    "id": "qoBcZPY2Z5Ww",
    "outputId": "1dc34a8a-eff3-4577-af43-4635fad38f26"
   },
   "outputs": [
    {
     "name": "stderr",
     "output_type": "stream",
     "text": [
      "Using TensorFlow backend.\n"
     ]
    }
   ],
   "source": [
    "from sklearn.metrics import accuracy_score\n",
    "from sklearn.metrics import precision_score\n",
    "from sklearn.metrics import recall_score\n",
    "from sklearn.metrics import f1_score\n",
    "from sklearn.metrics import cohen_kappa_score\n",
    "from sklearn.metrics import roc_auc_score\n",
    "from sklearn.metrics import confusion_matrix\n",
    "from keras.models import Sequential\n",
    "from keras.layers import Dense"
   ]
  },
  {
   "cell_type": "code",
   "execution_count": 5,
   "metadata": {
    "colab": {
     "base_uri": "https://localhost:8080/",
     "height": 34
    },
    "colab_type": "code",
    "executionInfo": {
     "elapsed": 3994,
     "status": "ok",
     "timestamp": 1580642031640,
     "user": {
      "displayName": "Karthik Bramhambhatla",
      "photoUrl": "",
      "userId": "08439150467609654547"
     },
     "user_tz": -330
    },
    "id": "BTpSEFMOAbiG",
    "outputId": "5bba1106-8427-424c-8d4f-8569edb0d043"
   },
   "outputs": [
    {
     "name": "stdout",
     "output_type": "stream",
     "text": [
      "Drive already mounted at /gdrive; to attempt to forcibly remount, call drive.mount(\"/gdrive\", force_remount=True).\n"
     ]
    }
   ],
   "source": [
    "from google.colab import drive\n",
    "drive.mount('/gdrive')"
   ]
  },
  {
   "cell_type": "code",
   "execution_count": 0,
   "metadata": {
    "colab": {},
    "colab_type": "code",
    "id": "oyFPCdmjAfLJ"
   },
   "outputs": [],
   "source": [
    "import pandas as pd"
   ]
  },
  {
   "cell_type": "code",
   "execution_count": 0,
   "metadata": {
    "colab": {},
    "colab_type": "code",
    "id": "7k69yCxBAqCS"
   },
   "outputs": [],
   "source": [
    "data = pd.read_csv('/gdrive/My Drive/Colab Notebooks/Residency6/Project-R6(NN)/bank.csv')"
   ]
  },
  {
   "cell_type": "code",
   "execution_count": 8,
   "metadata": {
    "colab": {
     "base_uri": "https://localhost:8080/",
     "height": 204
    },
    "colab_type": "code",
    "executionInfo": {
     "elapsed": 4484,
     "status": "ok",
     "timestamp": 1580642032153,
     "user": {
      "displayName": "Karthik Bramhambhatla",
      "photoUrl": "",
      "userId": "08439150467609654547"
     },
     "user_tz": -330
    },
    "id": "MBCnL9X-BBj6",
    "outputId": "5dded211-09c7-4b7a-c78f-4ff204d98752"
   },
   "outputs": [
    {
     "data": {
      "text/html": [
       "<div>\n",
       "<style scoped>\n",
       "    .dataframe tbody tr th:only-of-type {\n",
       "        vertical-align: middle;\n",
       "    }\n",
       "\n",
       "    .dataframe tbody tr th {\n",
       "        vertical-align: top;\n",
       "    }\n",
       "\n",
       "    .dataframe thead th {\n",
       "        text-align: right;\n",
       "    }\n",
       "</style>\n",
       "<table border=\"1\" class=\"dataframe\">\n",
       "  <thead>\n",
       "    <tr style=\"text-align: right;\">\n",
       "      <th></th>\n",
       "      <th>RowNumber</th>\n",
       "      <th>CustomerId</th>\n",
       "      <th>Surname</th>\n",
       "      <th>CreditScore</th>\n",
       "      <th>Geography</th>\n",
       "      <th>Gender</th>\n",
       "      <th>Age</th>\n",
       "      <th>Tenure</th>\n",
       "      <th>Balance</th>\n",
       "      <th>NumOfProducts</th>\n",
       "      <th>HasCrCard</th>\n",
       "      <th>IsActiveMember</th>\n",
       "      <th>EstimatedSalary</th>\n",
       "      <th>Exited</th>\n",
       "    </tr>\n",
       "  </thead>\n",
       "  <tbody>\n",
       "    <tr>\n",
       "      <th>0</th>\n",
       "      <td>1</td>\n",
       "      <td>15634602</td>\n",
       "      <td>Hargrave</td>\n",
       "      <td>619</td>\n",
       "      <td>France</td>\n",
       "      <td>Female</td>\n",
       "      <td>42</td>\n",
       "      <td>2</td>\n",
       "      <td>0.00</td>\n",
       "      <td>1</td>\n",
       "      <td>1</td>\n",
       "      <td>1</td>\n",
       "      <td>101348.88</td>\n",
       "      <td>1</td>\n",
       "    </tr>\n",
       "    <tr>\n",
       "      <th>1</th>\n",
       "      <td>2</td>\n",
       "      <td>15647311</td>\n",
       "      <td>Hill</td>\n",
       "      <td>608</td>\n",
       "      <td>Spain</td>\n",
       "      <td>Female</td>\n",
       "      <td>41</td>\n",
       "      <td>1</td>\n",
       "      <td>83807.86</td>\n",
       "      <td>1</td>\n",
       "      <td>0</td>\n",
       "      <td>1</td>\n",
       "      <td>112542.58</td>\n",
       "      <td>0</td>\n",
       "    </tr>\n",
       "    <tr>\n",
       "      <th>2</th>\n",
       "      <td>3</td>\n",
       "      <td>15619304</td>\n",
       "      <td>Onio</td>\n",
       "      <td>502</td>\n",
       "      <td>France</td>\n",
       "      <td>Female</td>\n",
       "      <td>42</td>\n",
       "      <td>8</td>\n",
       "      <td>159660.80</td>\n",
       "      <td>3</td>\n",
       "      <td>1</td>\n",
       "      <td>0</td>\n",
       "      <td>113931.57</td>\n",
       "      <td>1</td>\n",
       "    </tr>\n",
       "    <tr>\n",
       "      <th>3</th>\n",
       "      <td>4</td>\n",
       "      <td>15701354</td>\n",
       "      <td>Boni</td>\n",
       "      <td>699</td>\n",
       "      <td>France</td>\n",
       "      <td>Female</td>\n",
       "      <td>39</td>\n",
       "      <td>1</td>\n",
       "      <td>0.00</td>\n",
       "      <td>2</td>\n",
       "      <td>0</td>\n",
       "      <td>0</td>\n",
       "      <td>93826.63</td>\n",
       "      <td>0</td>\n",
       "    </tr>\n",
       "    <tr>\n",
       "      <th>4</th>\n",
       "      <td>5</td>\n",
       "      <td>15737888</td>\n",
       "      <td>Mitchell</td>\n",
       "      <td>850</td>\n",
       "      <td>Spain</td>\n",
       "      <td>Female</td>\n",
       "      <td>43</td>\n",
       "      <td>2</td>\n",
       "      <td>125510.82</td>\n",
       "      <td>1</td>\n",
       "      <td>1</td>\n",
       "      <td>1</td>\n",
       "      <td>79084.10</td>\n",
       "      <td>0</td>\n",
       "    </tr>\n",
       "  </tbody>\n",
       "</table>\n",
       "</div>"
      ],
      "text/plain": [
       "   RowNumber  CustomerId   Surname  ...  IsActiveMember EstimatedSalary Exited\n",
       "0          1    15634602  Hargrave  ...               1       101348.88      1\n",
       "1          2    15647311      Hill  ...               1       112542.58      0\n",
       "2          3    15619304      Onio  ...               0       113931.57      1\n",
       "3          4    15701354      Boni  ...               0        93826.63      0\n",
       "4          5    15737888  Mitchell  ...               1        79084.10      0\n",
       "\n",
       "[5 rows x 14 columns]"
      ]
     },
     "execution_count": 8,
     "metadata": {
      "tags": []
     },
     "output_type": "execute_result"
    }
   ],
   "source": [
    "data.head()"
   ]
  },
  {
   "cell_type": "code",
   "execution_count": 0,
   "metadata": {
    "colab": {},
    "colab_type": "code",
    "id": "18mK-pyoBIsf"
   },
   "outputs": [],
   "source": [
    "data.drop(['RowNumber','CustomerId','Surname'],axis=1,inplace=True)"
   ]
  },
  {
   "cell_type": "code",
   "execution_count": 10,
   "metadata": {
    "colab": {
     "base_uri": "https://localhost:8080/",
     "height": 204
    },
    "colab_type": "code",
    "executionInfo": {
     "elapsed": 4467,
     "status": "ok",
     "timestamp": 1580642032154,
     "user": {
      "displayName": "Karthik Bramhambhatla",
      "photoUrl": "",
      "userId": "08439150467609654547"
     },
     "user_tz": -330
    },
    "id": "wO4f0QbJCqK2",
    "outputId": "0dddbbc2-b420-4a74-e666-f909ca14c5cd"
   },
   "outputs": [
    {
     "data": {
      "text/html": [
       "<div>\n",
       "<style scoped>\n",
       "    .dataframe tbody tr th:only-of-type {\n",
       "        vertical-align: middle;\n",
       "    }\n",
       "\n",
       "    .dataframe tbody tr th {\n",
       "        vertical-align: top;\n",
       "    }\n",
       "\n",
       "    .dataframe thead th {\n",
       "        text-align: right;\n",
       "    }\n",
       "</style>\n",
       "<table border=\"1\" class=\"dataframe\">\n",
       "  <thead>\n",
       "    <tr style=\"text-align: right;\">\n",
       "      <th></th>\n",
       "      <th>CreditScore</th>\n",
       "      <th>Geography</th>\n",
       "      <th>Gender</th>\n",
       "      <th>Age</th>\n",
       "      <th>Tenure</th>\n",
       "      <th>Balance</th>\n",
       "      <th>NumOfProducts</th>\n",
       "      <th>HasCrCard</th>\n",
       "      <th>IsActiveMember</th>\n",
       "      <th>EstimatedSalary</th>\n",
       "      <th>Exited</th>\n",
       "    </tr>\n",
       "  </thead>\n",
       "  <tbody>\n",
       "    <tr>\n",
       "      <th>0</th>\n",
       "      <td>619</td>\n",
       "      <td>France</td>\n",
       "      <td>Female</td>\n",
       "      <td>42</td>\n",
       "      <td>2</td>\n",
       "      <td>0.00</td>\n",
       "      <td>1</td>\n",
       "      <td>1</td>\n",
       "      <td>1</td>\n",
       "      <td>101348.88</td>\n",
       "      <td>1</td>\n",
       "    </tr>\n",
       "    <tr>\n",
       "      <th>1</th>\n",
       "      <td>608</td>\n",
       "      <td>Spain</td>\n",
       "      <td>Female</td>\n",
       "      <td>41</td>\n",
       "      <td>1</td>\n",
       "      <td>83807.86</td>\n",
       "      <td>1</td>\n",
       "      <td>0</td>\n",
       "      <td>1</td>\n",
       "      <td>112542.58</td>\n",
       "      <td>0</td>\n",
       "    </tr>\n",
       "    <tr>\n",
       "      <th>2</th>\n",
       "      <td>502</td>\n",
       "      <td>France</td>\n",
       "      <td>Female</td>\n",
       "      <td>42</td>\n",
       "      <td>8</td>\n",
       "      <td>159660.80</td>\n",
       "      <td>3</td>\n",
       "      <td>1</td>\n",
       "      <td>0</td>\n",
       "      <td>113931.57</td>\n",
       "      <td>1</td>\n",
       "    </tr>\n",
       "    <tr>\n",
       "      <th>3</th>\n",
       "      <td>699</td>\n",
       "      <td>France</td>\n",
       "      <td>Female</td>\n",
       "      <td>39</td>\n",
       "      <td>1</td>\n",
       "      <td>0.00</td>\n",
       "      <td>2</td>\n",
       "      <td>0</td>\n",
       "      <td>0</td>\n",
       "      <td>93826.63</td>\n",
       "      <td>0</td>\n",
       "    </tr>\n",
       "    <tr>\n",
       "      <th>4</th>\n",
       "      <td>850</td>\n",
       "      <td>Spain</td>\n",
       "      <td>Female</td>\n",
       "      <td>43</td>\n",
       "      <td>2</td>\n",
       "      <td>125510.82</td>\n",
       "      <td>1</td>\n",
       "      <td>1</td>\n",
       "      <td>1</td>\n",
       "      <td>79084.10</td>\n",
       "      <td>0</td>\n",
       "    </tr>\n",
       "  </tbody>\n",
       "</table>\n",
       "</div>"
      ],
      "text/plain": [
       "   CreditScore Geography  Gender  ...  IsActiveMember  EstimatedSalary  Exited\n",
       "0          619    France  Female  ...               1        101348.88       1\n",
       "1          608     Spain  Female  ...               1        112542.58       0\n",
       "2          502    France  Female  ...               0        113931.57       1\n",
       "3          699    France  Female  ...               0         93826.63       0\n",
       "4          850     Spain  Female  ...               1         79084.10       0\n",
       "\n",
       "[5 rows x 11 columns]"
      ]
     },
     "execution_count": 10,
     "metadata": {
      "tags": []
     },
     "output_type": "execute_result"
    }
   ],
   "source": [
    "data.head()"
   ]
  },
  {
   "cell_type": "code",
   "execution_count": 0,
   "metadata": {
    "colab": {},
    "colab_type": "code",
    "id": "_IJJGhy-EIkl"
   },
   "outputs": [],
   "source": [
    "data = pd.get_dummies(data,columns=['Gender'])"
   ]
  },
  {
   "cell_type": "code",
   "execution_count": 0,
   "metadata": {
    "colab": {},
    "colab_type": "code",
    "id": "J8jel4uyEXh8"
   },
   "outputs": [],
   "source": [
    "data = pd.get_dummies(data,columns=['Geography'])"
   ]
  },
  {
   "cell_type": "code",
   "execution_count": 13,
   "metadata": {
    "colab": {
     "base_uri": "https://localhost:8080/",
     "height": 224
    },
    "colab_type": "code",
    "executionInfo": {
     "elapsed": 4445,
     "status": "ok",
     "timestamp": 1580642032155,
     "user": {
      "displayName": "Karthik Bramhambhatla",
      "photoUrl": "",
      "userId": "08439150467609654547"
     },
     "user_tz": -330
    },
    "id": "MsFxAdogESjy",
    "outputId": "26bdab9f-cadc-4421-92bb-96f07528173d"
   },
   "outputs": [
    {
     "data": {
      "text/html": [
       "<div>\n",
       "<style scoped>\n",
       "    .dataframe tbody tr th:only-of-type {\n",
       "        vertical-align: middle;\n",
       "    }\n",
       "\n",
       "    .dataframe tbody tr th {\n",
       "        vertical-align: top;\n",
       "    }\n",
       "\n",
       "    .dataframe thead th {\n",
       "        text-align: right;\n",
       "    }\n",
       "</style>\n",
       "<table border=\"1\" class=\"dataframe\">\n",
       "  <thead>\n",
       "    <tr style=\"text-align: right;\">\n",
       "      <th></th>\n",
       "      <th>CreditScore</th>\n",
       "      <th>Age</th>\n",
       "      <th>Tenure</th>\n",
       "      <th>Balance</th>\n",
       "      <th>NumOfProducts</th>\n",
       "      <th>HasCrCard</th>\n",
       "      <th>IsActiveMember</th>\n",
       "      <th>EstimatedSalary</th>\n",
       "      <th>Exited</th>\n",
       "      <th>Gender_Female</th>\n",
       "      <th>Gender_Male</th>\n",
       "      <th>Geography_France</th>\n",
       "      <th>Geography_Germany</th>\n",
       "      <th>Geography_Spain</th>\n",
       "    </tr>\n",
       "  </thead>\n",
       "  <tbody>\n",
       "    <tr>\n",
       "      <th>0</th>\n",
       "      <td>619</td>\n",
       "      <td>42</td>\n",
       "      <td>2</td>\n",
       "      <td>0.00</td>\n",
       "      <td>1</td>\n",
       "      <td>1</td>\n",
       "      <td>1</td>\n",
       "      <td>101348.88</td>\n",
       "      <td>1</td>\n",
       "      <td>1</td>\n",
       "      <td>0</td>\n",
       "      <td>1</td>\n",
       "      <td>0</td>\n",
       "      <td>0</td>\n",
       "    </tr>\n",
       "    <tr>\n",
       "      <th>1</th>\n",
       "      <td>608</td>\n",
       "      <td>41</td>\n",
       "      <td>1</td>\n",
       "      <td>83807.86</td>\n",
       "      <td>1</td>\n",
       "      <td>0</td>\n",
       "      <td>1</td>\n",
       "      <td>112542.58</td>\n",
       "      <td>0</td>\n",
       "      <td>1</td>\n",
       "      <td>0</td>\n",
       "      <td>0</td>\n",
       "      <td>0</td>\n",
       "      <td>1</td>\n",
       "    </tr>\n",
       "    <tr>\n",
       "      <th>2</th>\n",
       "      <td>502</td>\n",
       "      <td>42</td>\n",
       "      <td>8</td>\n",
       "      <td>159660.80</td>\n",
       "      <td>3</td>\n",
       "      <td>1</td>\n",
       "      <td>0</td>\n",
       "      <td>113931.57</td>\n",
       "      <td>1</td>\n",
       "      <td>1</td>\n",
       "      <td>0</td>\n",
       "      <td>1</td>\n",
       "      <td>0</td>\n",
       "      <td>0</td>\n",
       "    </tr>\n",
       "    <tr>\n",
       "      <th>3</th>\n",
       "      <td>699</td>\n",
       "      <td>39</td>\n",
       "      <td>1</td>\n",
       "      <td>0.00</td>\n",
       "      <td>2</td>\n",
       "      <td>0</td>\n",
       "      <td>0</td>\n",
       "      <td>93826.63</td>\n",
       "      <td>0</td>\n",
       "      <td>1</td>\n",
       "      <td>0</td>\n",
       "      <td>1</td>\n",
       "      <td>0</td>\n",
       "      <td>0</td>\n",
       "    </tr>\n",
       "    <tr>\n",
       "      <th>4</th>\n",
       "      <td>850</td>\n",
       "      <td>43</td>\n",
       "      <td>2</td>\n",
       "      <td>125510.82</td>\n",
       "      <td>1</td>\n",
       "      <td>1</td>\n",
       "      <td>1</td>\n",
       "      <td>79084.10</td>\n",
       "      <td>0</td>\n",
       "      <td>1</td>\n",
       "      <td>0</td>\n",
       "      <td>0</td>\n",
       "      <td>0</td>\n",
       "      <td>1</td>\n",
       "    </tr>\n",
       "  </tbody>\n",
       "</table>\n",
       "</div>"
      ],
      "text/plain": [
       "   CreditScore  Age  ...  Geography_Germany  Geography_Spain\n",
       "0          619   42  ...                  0                0\n",
       "1          608   41  ...                  0                1\n",
       "2          502   42  ...                  0                0\n",
       "3          699   39  ...                  0                0\n",
       "4          850   43  ...                  0                1\n",
       "\n",
       "[5 rows x 14 columns]"
      ]
     },
     "execution_count": 13,
     "metadata": {
      "tags": []
     },
     "output_type": "execute_result"
    }
   ],
   "source": [
    "data.head()"
   ]
  },
  {
   "cell_type": "code",
   "execution_count": 14,
   "metadata": {
    "colab": {
     "base_uri": "https://localhost:8080/",
     "height": 34
    },
    "colab_type": "code",
    "executionInfo": {
     "elapsed": 4433,
     "status": "ok",
     "timestamp": 1580642032156,
     "user": {
      "displayName": "Karthik Bramhambhatla",
      "photoUrl": "",
      "userId": "08439150467609654547"
     },
     "user_tz": -330
    },
    "id": "GomxhQ8ZblIX",
    "outputId": "b8e81f2c-9073-4261-ff26-c1973ab6f230"
   },
   "outputs": [
    {
     "data": {
      "text/plain": [
       "(10000, 14)"
      ]
     },
     "execution_count": 14,
     "metadata": {
      "tags": []
     },
     "output_type": "execute_result"
    }
   ],
   "source": [
    "data.shape"
   ]
  },
  {
   "cell_type": "code",
   "execution_count": 15,
   "metadata": {
    "colab": {
     "base_uri": "https://localhost:8080/",
     "height": 272
    },
    "colab_type": "code",
    "executionInfo": {
     "elapsed": 4421,
     "status": "ok",
     "timestamp": 1580642032157,
     "user": {
      "displayName": "Karthik Bramhambhatla",
      "photoUrl": "",
      "userId": "08439150467609654547"
     },
     "user_tz": -330
    },
    "id": "QO1srGiaf6qq",
    "outputId": "26a4dc7f-c65d-42f2-a991-85d4cc932b96"
   },
   "outputs": [
    {
     "data": {
      "text/plain": [
       "CreditScore          0\n",
       "Age                  0\n",
       "Tenure               0\n",
       "Balance              0\n",
       "NumOfProducts        0\n",
       "HasCrCard            0\n",
       "IsActiveMember       0\n",
       "EstimatedSalary      0\n",
       "Exited               0\n",
       "Gender_Female        0\n",
       "Gender_Male          0\n",
       "Geography_France     0\n",
       "Geography_Germany    0\n",
       "Geography_Spain      0\n",
       "dtype: int64"
      ]
     },
     "execution_count": 15,
     "metadata": {
      "tags": []
     },
     "output_type": "execute_result"
    }
   ],
   "source": [
    "data.isna().sum()"
   ]
  },
  {
   "cell_type": "code",
   "execution_count": 0,
   "metadata": {
    "colab": {},
    "colab_type": "code",
    "id": "yEDK9zF3Cslf"
   },
   "outputs": [],
   "source": [
    "X = data[['CreditScore','Age','Tenure','Balance','NumOfProducts','HasCrCard','IsActiveMember','EstimatedSalary','Gender_Female','Gender_Male','Geography_France','Geography_Germany','Geography_Spain']]\n",
    "y = data[['Exited']]"
   ]
  },
  {
   "cell_type": "code",
   "execution_count": 0,
   "metadata": {
    "colab": {},
    "colab_type": "code",
    "id": "Hfoc45MxC5ru"
   },
   "outputs": [],
   "source": [
    "from sklearn.model_selection import train_test_split\n",
    "test_size = 300 # taking 300 & 95 as training and test set sizes\n",
    "seed = 7  # Random numbmer seeding for reapeatability of the code\n",
    "X_train, X_test, y_train, y_test = train_test_split(X,y,test_size=test_size, random_state=seed)"
   ]
  },
  {
   "cell_type": "code",
   "execution_count": 0,
   "metadata": {
    "colab": {},
    "colab_type": "code",
    "id": "i2WRPw42EpI5"
   },
   "outputs": [],
   "source": [
    "X_train = X_train.astype('float32')\n",
    "y_train = y_train.astype('float32')\n",
    "X_test = X_test.astype('float32')\n",
    "y_test = y_test.astype('float32')"
   ]
  },
  {
   "cell_type": "code",
   "execution_count": 0,
   "metadata": {
    "colab": {},
    "colab_type": "code",
    "id": "plqXYuDADdJG"
   },
   "outputs": [],
   "source": [
    "import numpy as np"
   ]
  },
  {
   "cell_type": "code",
   "execution_count": 0,
   "metadata": {
    "colab": {},
    "colab_type": "code",
    "id": "5mHpepzzC_fC"
   },
   "outputs": [],
   "source": [
    "y_train = np.array(y_train)"
   ]
  },
  {
   "cell_type": "code",
   "execution_count": 0,
   "metadata": {
    "colab": {},
    "colab_type": "code",
    "id": "z-Z8blgfkrwy"
   },
   "outputs": [],
   "source": [
    "y_test = np.array(y_test)"
   ]
  },
  {
   "cell_type": "code",
   "execution_count": 0,
   "metadata": {
    "colab": {},
    "colab_type": "code",
    "id": "SbqN5-JkDFWt"
   },
   "outputs": [],
   "source": [
    "from sklearn.preprocessing import Normalizer"
   ]
  },
  {
   "cell_type": "code",
   "execution_count": 0,
   "metadata": {
    "colab": {},
    "colab_type": "code",
    "id": "C0EevK56DiFQ"
   },
   "outputs": [],
   "source": [
    "transformer = Normalizer()\n",
    "X_train = transformer.fit_transform(X_train)"
   ]
  },
  {
   "cell_type": "code",
   "execution_count": 0,
   "metadata": {
    "colab": {},
    "colab_type": "code",
    "id": "vZ92qwegaLgN"
   },
   "outputs": [],
   "source": [
    "transformer = Normalizer()\n",
    "X_test = transformer.fit_transform(X_test)"
   ]
  },
  {
   "cell_type": "code",
   "execution_count": 0,
   "metadata": {
    "colab": {},
    "colab_type": "code",
    "id": "nyWLfH1sDnfB"
   },
   "outputs": [],
   "source": [
    "model = tf.keras.models.Sequential()"
   ]
  },
  {
   "cell_type": "code",
   "execution_count": 0,
   "metadata": {
    "colab": {},
    "colab_type": "code",
    "id": "31FWC0YRiXYe"
   },
   "outputs": [],
   "source": [
    "model.add(tf.keras.layers.Dense(2, input_shape = (13,), activation='relu'))"
   ]
  },
  {
   "cell_type": "code",
   "execution_count": 0,
   "metadata": {
    "colab": {},
    "colab_type": "code",
    "id": "IUB-r-UwibY8"
   },
   "outputs": [],
   "source": [
    "model.add(tf.keras.layers.Dense(1, activation='sigmoid'))"
   ]
  },
  {
   "cell_type": "code",
   "execution_count": 0,
   "metadata": {
    "colab": {},
    "colab_type": "code",
    "id": "Qi14R-mBLs_E"
   },
   "outputs": [],
   "source": [
    "model.compile(optimizer='adam', loss='binary_crossentropy', \n",
    "              metrics=['accuracy'])"
   ]
  },
  {
   "cell_type": "code",
   "execution_count": 29,
   "metadata": {
    "colab": {
     "base_uri": "https://localhost:8080/",
     "height": 1000
    },
    "colab_type": "code",
    "executionInfo": {
     "elapsed": 63323,
     "status": "ok",
     "timestamp": 1580642091132,
     "user": {
      "displayName": "Karthik Bramhambhatla",
      "photoUrl": "",
      "userId": "08439150467609654547"
     },
     "user_tz": -330
    },
    "id": "qzxlUYZyLwoP",
    "outputId": "d6e8e773-fb20-4d8c-e334-a97d4ff04cb4"
   },
   "outputs": [
    {
     "name": "stdout",
     "output_type": "stream",
     "text": [
      "Train on 9700 samples, validate on 300 samples\n",
      "Epoch 1/100\n",
      "WARNING:tensorflow:From /usr/local/lib/python3.6/dist-packages/tensorflow_core/python/ops/nn_impl.py:183: where (from tensorflow.python.ops.array_ops) is deprecated and will be removed in a future version.\n",
      "Instructions for updating:\n",
      "Use tf.where in 2.0, which has the same broadcast rule as np.where\n",
      "9700/9700 [==============================] - 2s 211us/sample - loss: 0.6325 - acc: 0.7095 - val_loss: 0.5351 - val_acc: 0.8133\n",
      "Epoch 2/100\n",
      "9700/9700 [==============================] - 1s 56us/sample - loss: 0.5198 - acc: 0.7958 - val_loss: 0.4784 - val_acc: 0.8133\n",
      "Epoch 3/100\n",
      "9700/9700 [==============================] - 1s 58us/sample - loss: 0.5041 - acc: 0.7958 - val_loss: 0.4738 - val_acc: 0.8133\n",
      "Epoch 4/100\n",
      "9700/9700 [==============================] - 1s 54us/sample - loss: 0.5033 - acc: 0.7958 - val_loss: 0.4729 - val_acc: 0.8133\n",
      "Epoch 5/100\n",
      "9700/9700 [==============================] - 1s 58us/sample - loss: 0.5030 - acc: 0.7958 - val_loss: 0.4727 - val_acc: 0.8133\n",
      "Epoch 6/100\n",
      "9700/9700 [==============================] - 1s 57us/sample - loss: 0.5028 - acc: 0.7958 - val_loss: 0.4715 - val_acc: 0.8133\n",
      "Epoch 7/100\n",
      "9700/9700 [==============================] - 1s 58us/sample - loss: 0.5027 - acc: 0.7958 - val_loss: 0.4717 - val_acc: 0.8133\n",
      "Epoch 8/100\n",
      "9700/9700 [==============================] - 1s 57us/sample - loss: 0.5026 - acc: 0.7958 - val_loss: 0.4711 - val_acc: 0.8133\n",
      "Epoch 9/100\n",
      "9700/9700 [==============================] - 1s 60us/sample - loss: 0.5024 - acc: 0.7958 - val_loss: 0.4714 - val_acc: 0.8133\n",
      "Epoch 10/100\n",
      "9700/9700 [==============================] - 1s 57us/sample - loss: 0.5024 - acc: 0.7958 - val_loss: 0.4712 - val_acc: 0.8133\n",
      "Epoch 11/100\n",
      "9700/9700 [==============================] - 1s 61us/sample - loss: 0.5024 - acc: 0.7958 - val_loss: 0.4706 - val_acc: 0.8133\n",
      "Epoch 12/100\n",
      "9700/9700 [==============================] - 1s 59us/sample - loss: 0.5023 - acc: 0.7958 - val_loss: 0.4700 - val_acc: 0.8133\n",
      "Epoch 13/100\n",
      "9700/9700 [==============================] - 1s 59us/sample - loss: 0.5022 - acc: 0.7958 - val_loss: 0.4700 - val_acc: 0.8133\n",
      "Epoch 14/100\n",
      "9700/9700 [==============================] - 1s 57us/sample - loss: 0.5022 - acc: 0.7958 - val_loss: 0.4700 - val_acc: 0.8133\n",
      "Epoch 15/100\n",
      "9700/9700 [==============================] - 1s 57us/sample - loss: 0.5022 - acc: 0.7958 - val_loss: 0.4697 - val_acc: 0.8133\n",
      "Epoch 16/100\n",
      "9700/9700 [==============================] - 1s 57us/sample - loss: 0.5022 - acc: 0.7958 - val_loss: 0.4694 - val_acc: 0.8133\n",
      "Epoch 17/100\n",
      "9700/9700 [==============================] - 1s 58us/sample - loss: 0.5021 - acc: 0.7958 - val_loss: 0.4699 - val_acc: 0.8133\n",
      "Epoch 18/100\n",
      "9700/9700 [==============================] - 1s 57us/sample - loss: 0.5020 - acc: 0.7958 - val_loss: 0.4696 - val_acc: 0.8133\n",
      "Epoch 19/100\n",
      "9700/9700 [==============================] - 1s 52us/sample - loss: 0.5021 - acc: 0.7958 - val_loss: 0.4695 - val_acc: 0.8133\n",
      "Epoch 20/100\n",
      "9700/9700 [==============================] - 1s 54us/sample - loss: 0.5020 - acc: 0.7958 - val_loss: 0.4691 - val_acc: 0.8133\n",
      "Epoch 21/100\n",
      "9700/9700 [==============================] - 1s 55us/sample - loss: 0.5019 - acc: 0.7958 - val_loss: 0.4697 - val_acc: 0.8133\n",
      "Epoch 22/100\n",
      "9700/9700 [==============================] - 1s 55us/sample - loss: 0.5020 - acc: 0.7958 - val_loss: 0.4698 - val_acc: 0.8133\n",
      "Epoch 23/100\n",
      "9700/9700 [==============================] - 1s 56us/sample - loss: 0.5019 - acc: 0.7958 - val_loss: 0.4690 - val_acc: 0.8133\n",
      "Epoch 24/100\n",
      "9700/9700 [==============================] - 1s 57us/sample - loss: 0.5019 - acc: 0.7958 - val_loss: 0.4692 - val_acc: 0.8133\n",
      "Epoch 25/100\n",
      "9700/9700 [==============================] - 1s 59us/sample - loss: 0.5017 - acc: 0.7958 - val_loss: 0.4700 - val_acc: 0.8133\n",
      "Epoch 26/100\n",
      "9700/9700 [==============================] - 1s 56us/sample - loss: 0.5019 - acc: 0.7958 - val_loss: 0.4692 - val_acc: 0.8133\n",
      "Epoch 27/100\n",
      "9700/9700 [==============================] - 1s 56us/sample - loss: 0.5018 - acc: 0.7958 - val_loss: 0.4694 - val_acc: 0.8133\n",
      "Epoch 28/100\n",
      "9700/9700 [==============================] - 1s 60us/sample - loss: 0.5018 - acc: 0.7958 - val_loss: 0.4691 - val_acc: 0.8133\n",
      "Epoch 29/100\n",
      "9700/9700 [==============================] - 1s 60us/sample - loss: 0.5017 - acc: 0.7958 - val_loss: 0.4688 - val_acc: 0.8133\n",
      "Epoch 30/100\n",
      "9700/9700 [==============================] - 1s 57us/sample - loss: 0.5017 - acc: 0.7958 - val_loss: 0.4693 - val_acc: 0.8133\n",
      "Epoch 31/100\n",
      "9700/9700 [==============================] - 1s 54us/sample - loss: 0.5017 - acc: 0.7958 - val_loss: 0.4690 - val_acc: 0.8133\n",
      "Epoch 32/100\n",
      "9700/9700 [==============================] - 1s 55us/sample - loss: 0.5016 - acc: 0.7958 - val_loss: 0.4692 - val_acc: 0.8133\n",
      "Epoch 33/100\n",
      "9700/9700 [==============================] - 1s 54us/sample - loss: 0.5017 - acc: 0.7958 - val_loss: 0.4690 - val_acc: 0.8133\n",
      "Epoch 34/100\n",
      "9700/9700 [==============================] - 1s 58us/sample - loss: 0.5016 - acc: 0.7958 - val_loss: 0.4689 - val_acc: 0.8133\n",
      "Epoch 35/100\n",
      "9700/9700 [==============================] - 1s 56us/sample - loss: 0.5016 - acc: 0.7958 - val_loss: 0.4691 - val_acc: 0.8133\n",
      "Epoch 36/100\n",
      "9700/9700 [==============================] - 1s 58us/sample - loss: 0.5017 - acc: 0.7958 - val_loss: 0.4687 - val_acc: 0.8133\n",
      "Epoch 37/100\n",
      "9700/9700 [==============================] - 1s 58us/sample - loss: 0.5015 - acc: 0.7958 - val_loss: 0.4688 - val_acc: 0.8133\n",
      "Epoch 38/100\n",
      "9700/9700 [==============================] - 1s 57us/sample - loss: 0.5015 - acc: 0.7958 - val_loss: 0.4689 - val_acc: 0.8133\n",
      "Epoch 39/100\n",
      "9700/9700 [==============================] - 1s 57us/sample - loss: 0.5015 - acc: 0.7958 - val_loss: 0.4686 - val_acc: 0.8133\n",
      "Epoch 40/100\n",
      "9700/9700 [==============================] - 1s 54us/sample - loss: 0.5014 - acc: 0.7958 - val_loss: 0.4682 - val_acc: 0.8133\n",
      "Epoch 41/100\n",
      "9700/9700 [==============================] - 1s 53us/sample - loss: 0.5015 - acc: 0.7958 - val_loss: 0.4688 - val_acc: 0.8133\n",
      "Epoch 42/100\n",
      "9700/9700 [==============================] - 1s 57us/sample - loss: 0.5014 - acc: 0.7958 - val_loss: 0.4685 - val_acc: 0.8133\n",
      "Epoch 43/100\n",
      "9700/9700 [==============================] - 1s 57us/sample - loss: 0.5014 - acc: 0.7958 - val_loss: 0.4687 - val_acc: 0.8133\n",
      "Epoch 44/100\n",
      "9700/9700 [==============================] - 1s 59us/sample - loss: 0.5014 - acc: 0.7958 - val_loss: 0.4689 - val_acc: 0.8133\n",
      "Epoch 45/100\n",
      "9700/9700 [==============================] - 1s 56us/sample - loss: 0.5014 - acc: 0.7958 - val_loss: 0.4686 - val_acc: 0.8133\n",
      "Epoch 46/100\n",
      "9700/9700 [==============================] - 1s 57us/sample - loss: 0.5013 - acc: 0.7958 - val_loss: 0.4683 - val_acc: 0.8133\n",
      "Epoch 47/100\n",
      "9700/9700 [==============================] - 1s 57us/sample - loss: 0.5013 - acc: 0.7958 - val_loss: 0.4690 - val_acc: 0.8133\n",
      "Epoch 48/100\n",
      "9700/9700 [==============================] - 1s 61us/sample - loss: 0.5013 - acc: 0.7958 - val_loss: 0.4685 - val_acc: 0.8133\n",
      "Epoch 49/100\n",
      "9700/9700 [==============================] - 1s 57us/sample - loss: 0.5013 - acc: 0.7958 - val_loss: 0.4683 - val_acc: 0.8133\n",
      "Epoch 50/100\n",
      "9700/9700 [==============================] - 1s 57us/sample - loss: 0.5012 - acc: 0.7958 - val_loss: 0.4686 - val_acc: 0.8133\n",
      "Epoch 51/100\n",
      "9700/9700 [==============================] - 1s 57us/sample - loss: 0.5012 - acc: 0.7958 - val_loss: 0.4689 - val_acc: 0.8133\n",
      "Epoch 52/100\n",
      "9700/9700 [==============================] - 1s 55us/sample - loss: 0.5012 - acc: 0.7958 - val_loss: 0.4683 - val_acc: 0.8133\n",
      "Epoch 53/100\n",
      "9700/9700 [==============================] - 1s 55us/sample - loss: 0.5012 - acc: 0.7958 - val_loss: 0.4685 - val_acc: 0.8133\n",
      "Epoch 54/100\n",
      "9700/9700 [==============================] - 1s 57us/sample - loss: 0.5012 - acc: 0.7958 - val_loss: 0.4684 - val_acc: 0.8133\n",
      "Epoch 55/100\n",
      "9700/9700 [==============================] - 1s 54us/sample - loss: 0.5012 - acc: 0.7958 - val_loss: 0.4685 - val_acc: 0.8133\n",
      "Epoch 56/100\n",
      "9700/9700 [==============================] - 1s 58us/sample - loss: 0.5011 - acc: 0.7958 - val_loss: 0.4683 - val_acc: 0.8133\n",
      "Epoch 57/100\n",
      "9700/9700 [==============================] - 1s 59us/sample - loss: 0.5011 - acc: 0.7958 - val_loss: 0.4688 - val_acc: 0.8133\n",
      "Epoch 58/100\n",
      "9700/9700 [==============================] - 1s 56us/sample - loss: 0.5011 - acc: 0.7958 - val_loss: 0.4689 - val_acc: 0.8133\n",
      "Epoch 59/100\n",
      "9700/9700 [==============================] - 1s 55us/sample - loss: 0.5011 - acc: 0.7958 - val_loss: 0.4686 - val_acc: 0.8133\n",
      "Epoch 60/100\n",
      "9700/9700 [==============================] - 1s 56us/sample - loss: 0.5011 - acc: 0.7958 - val_loss: 0.4683 - val_acc: 0.8133\n",
      "Epoch 61/100\n",
      "9700/9700 [==============================] - 1s 54us/sample - loss: 0.5010 - acc: 0.7958 - val_loss: 0.4686 - val_acc: 0.8133\n",
      "Epoch 62/100\n",
      "9700/9700 [==============================] - 1s 57us/sample - loss: 0.5010 - acc: 0.7958 - val_loss: 0.4683 - val_acc: 0.8133\n",
      "Epoch 63/100\n",
      "9700/9700 [==============================] - 1s 59us/sample - loss: 0.5010 - acc: 0.7958 - val_loss: 0.4680 - val_acc: 0.8133\n",
      "Epoch 64/100\n",
      "9700/9700 [==============================] - 1s 59us/sample - loss: 0.5010 - acc: 0.7958 - val_loss: 0.4681 - val_acc: 0.8133\n",
      "Epoch 65/100\n",
      "9700/9700 [==============================] - 1s 58us/sample - loss: 0.5010 - acc: 0.7958 - val_loss: 0.4684 - val_acc: 0.8133\n",
      "Epoch 66/100\n",
      "9700/9700 [==============================] - 1s 57us/sample - loss: 0.5009 - acc: 0.7958 - val_loss: 0.4686 - val_acc: 0.8133\n",
      "Epoch 67/100\n",
      "9700/9700 [==============================] - 1s 64us/sample - loss: 0.5009 - acc: 0.7958 - val_loss: 0.4681 - val_acc: 0.8133\n",
      "Epoch 68/100\n",
      "9700/9700 [==============================] - 1s 56us/sample - loss: 0.5009 - acc: 0.7958 - val_loss: 0.4682 - val_acc: 0.8133\n",
      "Epoch 69/100\n",
      "9700/9700 [==============================] - 1s 56us/sample - loss: 0.5009 - acc: 0.7958 - val_loss: 0.4684 - val_acc: 0.8133\n",
      "Epoch 70/100\n",
      "9700/9700 [==============================] - 1s 58us/sample - loss: 0.5009 - acc: 0.7958 - val_loss: 0.4678 - val_acc: 0.8133\n",
      "Epoch 71/100\n",
      "9700/9700 [==============================] - 1s 57us/sample - loss: 0.5008 - acc: 0.7958 - val_loss: 0.4684 - val_acc: 0.8133\n",
      "Epoch 72/100\n",
      "9700/9700 [==============================] - 1s 58us/sample - loss: 0.5008 - acc: 0.7958 - val_loss: 0.4679 - val_acc: 0.8133\n",
      "Epoch 73/100\n",
      "9700/9700 [==============================] - 1s 57us/sample - loss: 0.5008 - acc: 0.7958 - val_loss: 0.4680 - val_acc: 0.8133\n",
      "Epoch 74/100\n",
      "9700/9700 [==============================] - 1s 55us/sample - loss: 0.5009 - acc: 0.7958 - val_loss: 0.4680 - val_acc: 0.8133\n",
      "Epoch 75/100\n",
      "9700/9700 [==============================] - 1s 58us/sample - loss: 0.5009 - acc: 0.7958 - val_loss: 0.4679 - val_acc: 0.8133\n",
      "Epoch 76/100\n",
      "9700/9700 [==============================] - 1s 64us/sample - loss: 0.5008 - acc: 0.7958 - val_loss: 0.4681 - val_acc: 0.8133\n",
      "Epoch 77/100\n",
      "9700/9700 [==============================] - 1s 62us/sample - loss: 0.5008 - acc: 0.7958 - val_loss: 0.4681 - val_acc: 0.8133\n",
      "Epoch 78/100\n",
      "9700/9700 [==============================] - 1s 65us/sample - loss: 0.5008 - acc: 0.7958 - val_loss: 0.4680 - val_acc: 0.8133\n",
      "Epoch 79/100\n",
      "9700/9700 [==============================] - 1s 65us/sample - loss: 0.5007 - acc: 0.7958 - val_loss: 0.4680 - val_acc: 0.8133\n",
      "Epoch 80/100\n",
      "9700/9700 [==============================] - 1s 63us/sample - loss: 0.5007 - acc: 0.7958 - val_loss: 0.4682 - val_acc: 0.8133\n",
      "Epoch 81/100\n",
      "9700/9700 [==============================] - 1s 60us/sample - loss: 0.5007 - acc: 0.7958 - val_loss: 0.4683 - val_acc: 0.8133\n",
      "Epoch 82/100\n",
      "9700/9700 [==============================] - 1s 62us/sample - loss: 0.5008 - acc: 0.7958 - val_loss: 0.4682 - val_acc: 0.8133\n",
      "Epoch 83/100\n",
      "9700/9700 [==============================] - 1s 63us/sample - loss: 0.5007 - acc: 0.7958 - val_loss: 0.4680 - val_acc: 0.8133\n",
      "Epoch 84/100\n",
      "9700/9700 [==============================] - 1s 63us/sample - loss: 0.5007 - acc: 0.7958 - val_loss: 0.4680 - val_acc: 0.8133\n",
      "Epoch 85/100\n",
      "9700/9700 [==============================] - 1s 63us/sample - loss: 0.5006 - acc: 0.7958 - val_loss: 0.4683 - val_acc: 0.8133\n",
      "Epoch 86/100\n",
      "9700/9700 [==============================] - 1s 66us/sample - loss: 0.5006 - acc: 0.7958 - val_loss: 0.4677 - val_acc: 0.8133\n",
      "Epoch 87/100\n",
      "9700/9700 [==============================] - 1s 62us/sample - loss: 0.5006 - acc: 0.7958 - val_loss: 0.4679 - val_acc: 0.8133\n",
      "Epoch 88/100\n",
      "9700/9700 [==============================] - 1s 60us/sample - loss: 0.5006 - acc: 0.7958 - val_loss: 0.4682 - val_acc: 0.8133\n",
      "Epoch 89/100\n",
      "9700/9700 [==============================] - 1s 60us/sample - loss: 0.5006 - acc: 0.7958 - val_loss: 0.4678 - val_acc: 0.8133\n",
      "Epoch 90/100\n",
      "9700/9700 [==============================] - 1s 65us/sample - loss: 0.5006 - acc: 0.7958 - val_loss: 0.4679 - val_acc: 0.8133\n",
      "Epoch 91/100\n",
      "9700/9700 [==============================] - 1s 62us/sample - loss: 0.5006 - acc: 0.7958 - val_loss: 0.4677 - val_acc: 0.8133\n",
      "Epoch 92/100\n",
      "9700/9700 [==============================] - 1s 62us/sample - loss: 0.5005 - acc: 0.7958 - val_loss: 0.4680 - val_acc: 0.8133\n",
      "Epoch 93/100\n",
      "9700/9700 [==============================] - 1s 62us/sample - loss: 0.5005 - acc: 0.7958 - val_loss: 0.4680 - val_acc: 0.8133\n",
      "Epoch 94/100\n",
      "9700/9700 [==============================] - 1s 54us/sample - loss: 0.5005 - acc: 0.7958 - val_loss: 0.4680 - val_acc: 0.8133\n",
      "Epoch 95/100\n",
      "9700/9700 [==============================] - 1s 56us/sample - loss: 0.5005 - acc: 0.7958 - val_loss: 0.4676 - val_acc: 0.8133\n",
      "Epoch 96/100\n",
      "9700/9700 [==============================] - 1s 56us/sample - loss: 0.5005 - acc: 0.7958 - val_loss: 0.4677 - val_acc: 0.8133\n",
      "Epoch 97/100\n",
      "9700/9700 [==============================] - 1s 56us/sample - loss: 0.5004 - acc: 0.7958 - val_loss: 0.4681 - val_acc: 0.8133\n",
      "Epoch 98/100\n",
      "9700/9700 [==============================] - 1s 56us/sample - loss: 0.5005 - acc: 0.7958 - val_loss: 0.4683 - val_acc: 0.8133\n",
      "Epoch 99/100\n",
      "9700/9700 [==============================] - 1s 56us/sample - loss: 0.5004 - acc: 0.7958 - val_loss: 0.4679 - val_acc: 0.8133\n",
      "Epoch 100/100\n",
      "9700/9700 [==============================] - 1s 53us/sample - loss: 0.5004 - acc: 0.7958 - val_loss: 0.4678 - val_acc: 0.8133\n"
     ]
    },
    {
     "data": {
      "text/plain": [
       "<tensorflow.python.keras.callbacks.History at 0x7fee72943400>"
      ]
     },
     "execution_count": 29,
     "metadata": {
      "tags": []
     },
     "output_type": "execute_result"
    }
   ],
   "source": [
    "model.fit(X_train,y_train,          \n",
    "          validation_data=(X_test,y_test),\n",
    "          epochs=100,\n",
    "          batch_size=32) "
   ]
  },
  {
   "cell_type": "code",
   "execution_count": 0,
   "metadata": {
    "colab": {},
    "colab_type": "code",
    "id": "uqXo7dyJL5m4"
   },
   "outputs": [],
   "source": [
    "#input = np.array(X_test[0:3])"
   ]
  },
  {
   "cell_type": "code",
   "execution_count": 0,
   "metadata": {
    "colab": {},
    "colab_type": "code",
    "id": "480ZM23SOEiK"
   },
   "outputs": [],
   "source": [
    "#pred = np.argmax(model.predict(input))\n",
    "#pred"
   ]
  },
  {
   "cell_type": "code",
   "execution_count": 32,
   "metadata": {
    "colab": {
     "base_uri": "https://localhost:8080/",
     "height": 68
    },
    "colab_type": "code",
    "executionInfo": {
     "elapsed": 63298,
     "status": "ok",
     "timestamp": 1580642091134,
     "user": {
      "displayName": "Karthik Bramhambhatla",
      "photoUrl": "",
      "userId": "08439150467609654547"
     },
     "user_tz": -330
    },
    "id": "2G-tEuIRbbBP",
    "outputId": "5f5dac15-0a18-42f2-aa2a-a777c9f789c2"
   },
   "outputs": [
    {
     "name": "stdout",
     "output_type": "stream",
     "text": [
      "Accuracy: 0.813333\n",
      "[[244   0]\n",
      " [ 56   0]]\n"
     ]
    }
   ],
   "source": [
    "# predict probabilities for test set\n",
    "yhat_probs = model.predict(X_test, verbose=0)\n",
    "# predict crisp classes for test set\n",
    "yhat_classes = model.predict_classes(X_test, verbose=0)\n",
    "# reduce to 1d array\n",
    "yhat_probs = yhat_probs[:, 0]\n",
    "yhat_classes = yhat_classes[:, 0]\n",
    "\n",
    "# accuracy: (tp + tn) / (p + n)\n",
    "accuracy = accuracy_score(y_test, yhat_classes)\n",
    "print('Accuracy: %f' % accuracy)\n",
    "\n",
    "# confusion matrix\n",
    "matrix = confusion_matrix(y_test, yhat_classes)\n",
    "print(matrix)"
   ]
  },
  {
   "cell_type": "code",
   "execution_count": 0,
   "metadata": {
    "colab": {},
    "colab_type": "code",
    "id": "uZCFYThvatFq"
   },
   "outputs": [],
   "source": []
  }
 ],
 "metadata": {
  "colab": {
   "authorship_tag": "ABX9TyOAnSkx7eyJZ+Do5jpPDvMd",
   "name": "R6-Project1-INNDL.ipynb",
   "provenance": []
  },
  "kernelspec": {
   "display_name": "Python 3",
   "language": "python",
   "name": "python3"
  },
  "language_info": {
   "codemirror_mode": {
    "name": "ipython",
    "version": 3
   },
   "file_extension": ".py",
   "mimetype": "text/x-python",
   "name": "python",
   "nbconvert_exporter": "python",
   "pygments_lexer": "ipython3",
   "version": "3.7.3"
  }
 },
 "nbformat": 4,
 "nbformat_minor": 1
}
