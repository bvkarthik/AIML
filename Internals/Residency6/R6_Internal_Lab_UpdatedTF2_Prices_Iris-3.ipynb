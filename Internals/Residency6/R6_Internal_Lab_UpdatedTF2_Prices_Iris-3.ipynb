{
 "cells": [
  {
   "cell_type": "markdown",
   "metadata": {
    "colab_type": "text",
    "id": "84Q8JfvaeZZ6"
   },
   "source": [
    "## Linear Classifier in TensorFlow \n",
    "Using Low Level API in Eager Execution mode"
   ]
  },
  {
   "cell_type": "markdown",
   "metadata": {
    "colab_type": "text",
    "id": "sb7Epo0VOB58"
   },
   "source": [
    "### Load tensorflow"
   ]
  },
  {
   "cell_type": "code",
   "execution_count": 1,
   "metadata": {
    "colab": {
     "base_uri": "https://localhost:8080/",
     "height": 63
    },
    "colab_type": "code",
    "executionInfo": {
     "elapsed": 2247,
     "status": "ok",
     "timestamp": 1578818873333,
     "user": {
      "displayName": "Karthik Bramhambhatla",
      "photoUrl": "",
      "userId": "08439150467609654547"
     },
     "user_tz": -330
    },
    "id": "fHpCNRv1OB5-",
    "outputId": "42c6c0b7-d178-4cb6-a592-2f655b671267"
   },
   "outputs": [
    {
     "data": {
      "text/html": [
       "<p style=\"color: red;\">\n",
       "The default version of TensorFlow in Colab will soon switch to TensorFlow 2.x.<br>\n",
       "We recommend you <a href=\"https://www.tensorflow.org/guide/migrate\" target=\"_blank\">upgrade</a> now \n",
       "or ensure your notebook will continue to use TensorFlow 1.x via the <code>%tensorflow_version 1.x</code> magic:\n",
       "<a href=\"https://colab.research.google.com/notebooks/tensorflow_version.ipynb\" target=\"_blank\">more info</a>.</p>\n"
      ],
      "text/plain": [
       "<IPython.core.display.HTML object>"
      ]
     },
     "metadata": {
      "tags": []
     },
     "output_type": "display_data"
    }
   ],
   "source": [
    "import tensorflow as tf"
   ]
  },
  {
   "cell_type": "code",
   "execution_count": 0,
   "metadata": {
    "colab": {},
    "colab_type": "code",
    "id": "9XTAH2eMJsZ8"
   },
   "outputs": [],
   "source": [
    "import numpy as np"
   ]
  },
  {
   "cell_type": "code",
   "execution_count": 0,
   "metadata": {
    "colab": {},
    "colab_type": "code",
    "id": "Mjtb-EMcm5K0"
   },
   "outputs": [],
   "source": [
    "#Enable Eager Execution if using tensflow version < 2.0\n",
    "#From tensorflow v2.0 onwards, Eager Execution will be enabled by default\n",
    "#tf.executing_eagerly()\n",
    "tf.compat.v1.enable_eager_execution(\n",
    "    config=None,\n",
    "    device_policy=None,\n",
    "    execution_mode=None\n",
    ")"
   ]
  },
  {
   "cell_type": "code",
   "execution_count": 51,
   "metadata": {
    "colab": {
     "base_uri": "https://localhost:8080/",
     "height": 34
    },
    "colab_type": "code",
    "executionInfo": {
     "elapsed": 831,
     "status": "ok",
     "timestamp": 1578822390684,
     "user": {
      "displayName": "Karthik Bramhambhatla",
      "photoUrl": "",
      "userId": "08439150467609654547"
     },
     "user_tz": -330
    },
    "id": "8sBK48iA84zo",
    "outputId": "851e2700-10d6-4bbb-de92-c4360826ffe7"
   },
   "outputs": [
    {
     "data": {
      "text/plain": [
       "'1.15.0'"
      ]
     },
     "execution_count": 51,
     "metadata": {
      "tags": []
     },
     "output_type": "execute_result"
    }
   ],
   "source": [
    "tf.__version__"
   ]
  },
  {
   "cell_type": "markdown",
   "metadata": {
    "colab_type": "text",
    "id": "DxJDmJqqOB6K"
   },
   "source": [
    "### Collect Data"
   ]
  },
  {
   "cell_type": "code",
   "execution_count": 5,
   "metadata": {
    "colab": {
     "base_uri": "https://localhost:8080/",
     "height": 122
    },
    "colab_type": "code",
    "executionInfo": {
     "elapsed": 19958,
     "status": "ok",
     "timestamp": 1578819129944,
     "user": {
      "displayName": "Karthik Bramhambhatla",
      "photoUrl": "",
      "userId": "08439150467609654547"
     },
     "user_tz": -330
    },
    "id": "FhllFLyKOB6N",
    "outputId": "96f04c75-6015-4de2-f063-e5163b0a2d8c"
   },
   "outputs": [
    {
     "name": "stdout",
     "output_type": "stream",
     "text": [
      "Go to this URL in a browser: https://accounts.google.com/o/oauth2/auth?client_id=947318989803-6bn6qk8qdgf4n4g3pfee6491hc0brc4i.apps.googleusercontent.com&redirect_uri=urn%3aietf%3awg%3aoauth%3a2.0%3aoob&response_type=code&scope=email%20https%3a%2f%2fwww.googleapis.com%2fauth%2fdocs.test%20https%3a%2f%2fwww.googleapis.com%2fauth%2fdrive%20https%3a%2f%2fwww.googleapis.com%2fauth%2fdrive.photos.readonly%20https%3a%2f%2fwww.googleapis.com%2fauth%2fpeopleapi.readonly\n",
      "\n",
      "Enter your authorization code:\n",
      "··········\n",
      "Mounted at /gdrive\n"
     ]
    }
   ],
   "source": [
    "from google.colab import drive\n",
    "drive.mount('/gdrive')"
   ]
  },
  {
   "cell_type": "code",
   "execution_count": 0,
   "metadata": {
    "colab": {},
    "colab_type": "code",
    "id": "KiObW4V4SIOz"
   },
   "outputs": [],
   "source": [
    "import pandas as pd"
   ]
  },
  {
   "cell_type": "code",
   "execution_count": 0,
   "metadata": {
    "colab": {},
    "colab_type": "code",
    "id": "B4yQKMiJOB6R"
   },
   "outputs": [],
   "source": [
    "data = pd.read_csv('/gdrive/My Drive/Colab Notebooks/Residency6/prices.csv')"
   ]
  },
  {
   "cell_type": "markdown",
   "metadata": {
    "colab_type": "text",
    "id": "fgkX6SEqOB6W"
   },
   "source": [
    "### Check all columns in the dataset"
   ]
  },
  {
   "cell_type": "code",
   "execution_count": 8,
   "metadata": {
    "colab": {
     "base_uri": "https://localhost:8080/",
     "height": 204
    },
    "colab_type": "code",
    "executionInfo": {
     "elapsed": 898,
     "status": "ok",
     "timestamp": 1578819261230,
     "user": {
      "displayName": "Karthik Bramhambhatla",
      "photoUrl": "",
      "userId": "08439150467609654547"
     },
     "user_tz": -330
    },
    "id": "7K8pWsNQOB6X",
    "outputId": "333447c0-2b46-405a-fb54-5f6dbb3a6eed"
   },
   "outputs": [
    {
     "data": {
      "text/html": [
       "<div>\n",
       "<style scoped>\n",
       "    .dataframe tbody tr th:only-of-type {\n",
       "        vertical-align: middle;\n",
       "    }\n",
       "\n",
       "    .dataframe tbody tr th {\n",
       "        vertical-align: top;\n",
       "    }\n",
       "\n",
       "    .dataframe thead th {\n",
       "        text-align: right;\n",
       "    }\n",
       "</style>\n",
       "<table border=\"1\" class=\"dataframe\">\n",
       "  <thead>\n",
       "    <tr style=\"text-align: right;\">\n",
       "      <th></th>\n",
       "      <th>date</th>\n",
       "      <th>symbol</th>\n",
       "      <th>open</th>\n",
       "      <th>close</th>\n",
       "      <th>low</th>\n",
       "      <th>high</th>\n",
       "      <th>volume</th>\n",
       "    </tr>\n",
       "  </thead>\n",
       "  <tbody>\n",
       "    <tr>\n",
       "      <th>0</th>\n",
       "      <td>2016-01-05 00:00:00</td>\n",
       "      <td>WLTW</td>\n",
       "      <td>123.430000</td>\n",
       "      <td>125.839996</td>\n",
       "      <td>122.309998</td>\n",
       "      <td>126.250000</td>\n",
       "      <td>2163600.0</td>\n",
       "    </tr>\n",
       "    <tr>\n",
       "      <th>1</th>\n",
       "      <td>2016-01-06 00:00:00</td>\n",
       "      <td>WLTW</td>\n",
       "      <td>125.239998</td>\n",
       "      <td>119.980003</td>\n",
       "      <td>119.940002</td>\n",
       "      <td>125.540001</td>\n",
       "      <td>2386400.0</td>\n",
       "    </tr>\n",
       "    <tr>\n",
       "      <th>2</th>\n",
       "      <td>2016-01-07 00:00:00</td>\n",
       "      <td>WLTW</td>\n",
       "      <td>116.379997</td>\n",
       "      <td>114.949997</td>\n",
       "      <td>114.930000</td>\n",
       "      <td>119.739998</td>\n",
       "      <td>2489500.0</td>\n",
       "    </tr>\n",
       "    <tr>\n",
       "      <th>3</th>\n",
       "      <td>2016-01-08 00:00:00</td>\n",
       "      <td>WLTW</td>\n",
       "      <td>115.480003</td>\n",
       "      <td>116.620003</td>\n",
       "      <td>113.500000</td>\n",
       "      <td>117.440002</td>\n",
       "      <td>2006300.0</td>\n",
       "    </tr>\n",
       "    <tr>\n",
       "      <th>4</th>\n",
       "      <td>2016-01-11 00:00:00</td>\n",
       "      <td>WLTW</td>\n",
       "      <td>117.010002</td>\n",
       "      <td>114.970001</td>\n",
       "      <td>114.089996</td>\n",
       "      <td>117.330002</td>\n",
       "      <td>1408600.0</td>\n",
       "    </tr>\n",
       "  </tbody>\n",
       "</table>\n",
       "</div>"
      ],
      "text/plain": [
       "                  date symbol        open  ...         low        high     volume\n",
       "0  2016-01-05 00:00:00   WLTW  123.430000  ...  122.309998  126.250000  2163600.0\n",
       "1  2016-01-06 00:00:00   WLTW  125.239998  ...  119.940002  125.540001  2386400.0\n",
       "2  2016-01-07 00:00:00   WLTW  116.379997  ...  114.930000  119.739998  2489500.0\n",
       "3  2016-01-08 00:00:00   WLTW  115.480003  ...  113.500000  117.440002  2006300.0\n",
       "4  2016-01-11 00:00:00   WLTW  117.010002  ...  114.089996  117.330002  1408600.0\n",
       "\n",
       "[5 rows x 7 columns]"
      ]
     },
     "execution_count": 8,
     "metadata": {
      "tags": []
     },
     "output_type": "execute_result"
    }
   ],
   "source": [
    "data.head()"
   ]
  },
  {
   "cell_type": "markdown",
   "metadata": {
    "colab_type": "text",
    "id": "7dU6X7MpOB6c"
   },
   "source": [
    "### Drop columns `date` and  `symbol`"
   ]
  },
  {
   "cell_type": "code",
   "execution_count": 0,
   "metadata": {
    "colab": {},
    "colab_type": "code",
    "id": "lh_6spSKOB6e"
   },
   "outputs": [],
   "source": [
    "data.drop(['date','symbol'],axis=1,inplace=True)"
   ]
  },
  {
   "cell_type": "code",
   "execution_count": 11,
   "metadata": {
    "colab": {
     "base_uri": "https://localhost:8080/",
     "height": 204
    },
    "colab_type": "code",
    "executionInfo": {
     "elapsed": 748,
     "status": "ok",
     "timestamp": 1578819317342,
     "user": {
      "displayName": "Karthik Bramhambhatla",
      "photoUrl": "",
      "userId": "08439150467609654547"
     },
     "user_tz": -330
    },
    "id": "xlwbUgTwOB6i",
    "outputId": "bb9da3cf-5da6-4003-cbf7-bd7757a9f742"
   },
   "outputs": [
    {
     "data": {
      "text/html": [
       "<div>\n",
       "<style scoped>\n",
       "    .dataframe tbody tr th:only-of-type {\n",
       "        vertical-align: middle;\n",
       "    }\n",
       "\n",
       "    .dataframe tbody tr th {\n",
       "        vertical-align: top;\n",
       "    }\n",
       "\n",
       "    .dataframe thead th {\n",
       "        text-align: right;\n",
       "    }\n",
       "</style>\n",
       "<table border=\"1\" class=\"dataframe\">\n",
       "  <thead>\n",
       "    <tr style=\"text-align: right;\">\n",
       "      <th></th>\n",
       "      <th>open</th>\n",
       "      <th>close</th>\n",
       "      <th>low</th>\n",
       "      <th>high</th>\n",
       "      <th>volume</th>\n",
       "    </tr>\n",
       "  </thead>\n",
       "  <tbody>\n",
       "    <tr>\n",
       "      <th>0</th>\n",
       "      <td>123.430000</td>\n",
       "      <td>125.839996</td>\n",
       "      <td>122.309998</td>\n",
       "      <td>126.250000</td>\n",
       "      <td>2163600.0</td>\n",
       "    </tr>\n",
       "    <tr>\n",
       "      <th>1</th>\n",
       "      <td>125.239998</td>\n",
       "      <td>119.980003</td>\n",
       "      <td>119.940002</td>\n",
       "      <td>125.540001</td>\n",
       "      <td>2386400.0</td>\n",
       "    </tr>\n",
       "    <tr>\n",
       "      <th>2</th>\n",
       "      <td>116.379997</td>\n",
       "      <td>114.949997</td>\n",
       "      <td>114.930000</td>\n",
       "      <td>119.739998</td>\n",
       "      <td>2489500.0</td>\n",
       "    </tr>\n",
       "    <tr>\n",
       "      <th>3</th>\n",
       "      <td>115.480003</td>\n",
       "      <td>116.620003</td>\n",
       "      <td>113.500000</td>\n",
       "      <td>117.440002</td>\n",
       "      <td>2006300.0</td>\n",
       "    </tr>\n",
       "    <tr>\n",
       "      <th>4</th>\n",
       "      <td>117.010002</td>\n",
       "      <td>114.970001</td>\n",
       "      <td>114.089996</td>\n",
       "      <td>117.330002</td>\n",
       "      <td>1408600.0</td>\n",
       "    </tr>\n",
       "  </tbody>\n",
       "</table>\n",
       "</div>"
      ],
      "text/plain": [
       "         open       close         low        high     volume\n",
       "0  123.430000  125.839996  122.309998  126.250000  2163600.0\n",
       "1  125.239998  119.980003  119.940002  125.540001  2386400.0\n",
       "2  116.379997  114.949997  114.930000  119.739998  2489500.0\n",
       "3  115.480003  116.620003  113.500000  117.440002  2006300.0\n",
       "4  117.010002  114.970001  114.089996  117.330002  1408600.0"
      ]
     },
     "execution_count": 11,
     "metadata": {
      "tags": []
     },
     "output_type": "execute_result"
    }
   ],
   "source": [
    "data.head()"
   ]
  },
  {
   "cell_type": "markdown",
   "metadata": {
    "colab_type": "text",
    "id": "3DBv3WWYOB6q"
   },
   "source": [
    "### Consider only first 1000 rows in the dataset for building feature set and target set\n",
    "Target 'Volume' has very high values. Divide 'Volume' by 1000,000"
   ]
  },
  {
   "cell_type": "code",
   "execution_count": 0,
   "metadata": {
    "colab": {},
    "colab_type": "code",
    "id": "Z_hG9rGBOB6s"
   },
   "outputs": [],
   "source": [
    "data['volume'] = data['volume']/1000000"
   ]
  },
  {
   "cell_type": "code",
   "execution_count": 16,
   "metadata": {
    "colab": {
     "base_uri": "https://localhost:8080/",
     "height": 204
    },
    "colab_type": "code",
    "executionInfo": {
     "elapsed": 906,
     "status": "ok",
     "timestamp": 1578819638676,
     "user": {
      "displayName": "Karthik Bramhambhatla",
      "photoUrl": "",
      "userId": "08439150467609654547"
     },
     "user_tz": -330
    },
    "id": "hPMN1vIF-7uX",
    "outputId": "8a27496f-c033-47f1-b928-a4531e1991c2"
   },
   "outputs": [
    {
     "data": {
      "text/html": [
       "<div>\n",
       "<style scoped>\n",
       "    .dataframe tbody tr th:only-of-type {\n",
       "        vertical-align: middle;\n",
       "    }\n",
       "\n",
       "    .dataframe tbody tr th {\n",
       "        vertical-align: top;\n",
       "    }\n",
       "\n",
       "    .dataframe thead th {\n",
       "        text-align: right;\n",
       "    }\n",
       "</style>\n",
       "<table border=\"1\" class=\"dataframe\">\n",
       "  <thead>\n",
       "    <tr style=\"text-align: right;\">\n",
       "      <th></th>\n",
       "      <th>open</th>\n",
       "      <th>close</th>\n",
       "      <th>low</th>\n",
       "      <th>high</th>\n",
       "      <th>volume</th>\n",
       "    </tr>\n",
       "  </thead>\n",
       "  <tbody>\n",
       "    <tr>\n",
       "      <th>0</th>\n",
       "      <td>123.430000</td>\n",
       "      <td>125.839996</td>\n",
       "      <td>122.309998</td>\n",
       "      <td>126.250000</td>\n",
       "      <td>2.1636</td>\n",
       "    </tr>\n",
       "    <tr>\n",
       "      <th>1</th>\n",
       "      <td>125.239998</td>\n",
       "      <td>119.980003</td>\n",
       "      <td>119.940002</td>\n",
       "      <td>125.540001</td>\n",
       "      <td>2.3864</td>\n",
       "    </tr>\n",
       "    <tr>\n",
       "      <th>2</th>\n",
       "      <td>116.379997</td>\n",
       "      <td>114.949997</td>\n",
       "      <td>114.930000</td>\n",
       "      <td>119.739998</td>\n",
       "      <td>2.4895</td>\n",
       "    </tr>\n",
       "    <tr>\n",
       "      <th>3</th>\n",
       "      <td>115.480003</td>\n",
       "      <td>116.620003</td>\n",
       "      <td>113.500000</td>\n",
       "      <td>117.440002</td>\n",
       "      <td>2.0063</td>\n",
       "    </tr>\n",
       "    <tr>\n",
       "      <th>4</th>\n",
       "      <td>117.010002</td>\n",
       "      <td>114.970001</td>\n",
       "      <td>114.089996</td>\n",
       "      <td>117.330002</td>\n",
       "      <td>1.4086</td>\n",
       "    </tr>\n",
       "  </tbody>\n",
       "</table>\n",
       "</div>"
      ],
      "text/plain": [
       "         open       close         low        high  volume\n",
       "0  123.430000  125.839996  122.309998  126.250000  2.1636\n",
       "1  125.239998  119.980003  119.940002  125.540001  2.3864\n",
       "2  116.379997  114.949997  114.930000  119.739998  2.4895\n",
       "3  115.480003  116.620003  113.500000  117.440002  2.0063\n",
       "4  117.010002  114.970001  114.089996  117.330002  1.4086"
      ]
     },
     "execution_count": 16,
     "metadata": {
      "tags": []
     },
     "output_type": "execute_result"
    }
   ],
   "source": [
    "data.head()"
   ]
  },
  {
   "cell_type": "code",
   "execution_count": 0,
   "metadata": {
    "colab": {},
    "colab_type": "code",
    "id": "2AJFLc3SDvWO"
   },
   "outputs": [],
   "source": [
    "data = data[:1000]"
   ]
  },
  {
   "cell_type": "code",
   "execution_count": 32,
   "metadata": {
    "colab": {
     "base_uri": "https://localhost:8080/",
     "height": 34
    },
    "colab_type": "code",
    "executionInfo": {
     "elapsed": 525,
     "status": "ok",
     "timestamp": 1578820964624,
     "user": {
      "displayName": "Karthik Bramhambhatla",
      "photoUrl": "",
      "userId": "08439150467609654547"
     },
     "user_tz": -330
    },
    "id": "j6tPAT-jD_eY",
    "outputId": "1d49e1af-ac8e-44de-bf01-1124ada2c065"
   },
   "outputs": [
    {
     "data": {
      "text/plain": [
       "(1000, 5)"
      ]
     },
     "execution_count": 32,
     "metadata": {
      "tags": []
     },
     "output_type": "execute_result"
    }
   ],
   "source": [
    "data.shape"
   ]
  },
  {
   "cell_type": "markdown",
   "metadata": {
    "colab_type": "text",
    "id": "M3UaApqYOB6x"
   },
   "source": [
    "### Divide the data into train and test sets"
   ]
  },
  {
   "cell_type": "code",
   "execution_count": 0,
   "metadata": {
    "colab": {},
    "colab_type": "code",
    "id": "ur0WE3uRCohn"
   },
   "outputs": [],
   "source": [
    "X = data.drop(\"volume\", axis=1)\n",
    "y = data[\"volume\"]"
   ]
  },
  {
   "cell_type": "code",
   "execution_count": 0,
   "metadata": {
    "colab": {},
    "colab_type": "code",
    "id": "4LE4U8lTdQJq"
   },
   "outputs": [],
   "source": [
    "from sklearn.model_selection import train_test_split\n",
    "test_size = 300 # taking 300 & 95 as training and test set sizes\n",
    "seed = 7  # Random numbmer seeding for reapeatability of the code\n",
    "X_train, X_test, y_train, y_test = train_test_split(X,y,test_size=test_size, random_state=seed)"
   ]
  },
  {
   "cell_type": "markdown",
   "metadata": {
    "colab_type": "text",
    "id": "oYK-aUuLbrz2"
   },
   "source": [
    "#### Convert Training and Test Data to numpy float32 arrays\n"
   ]
  },
  {
   "cell_type": "code",
   "execution_count": 0,
   "metadata": {
    "colab": {},
    "colab_type": "code",
    "id": "Ao-S0tQGcncz"
   },
   "outputs": [],
   "source": [
    "X_train = X_train.astype('float32')\n",
    "y_train = y_train.astype('float32')\n",
    "X_test = X_test.astype('float32')\n",
    "y_test = y_test.astype('float32')"
   ]
  },
  {
   "cell_type": "code",
   "execution_count": 0,
   "metadata": {
    "colab": {},
    "colab_type": "code",
    "id": "JHsP4LjwDV2u"
   },
   "outputs": [],
   "source": [
    "#as our tensorflow version is 1.15, we have to convert the y_train value to an array\n",
    "y_train = np.array(y_train)"
   ]
  },
  {
   "cell_type": "markdown",
   "metadata": {
    "colab_type": "text",
    "id": "im1ZegbDdKgv"
   },
   "source": [
    "### Normalize the data\n",
    "You can use Normalizer from sklearn.preprocessing"
   ]
  },
  {
   "cell_type": "code",
   "execution_count": 0,
   "metadata": {
    "colab": {},
    "colab_type": "code",
    "id": "kEA7RbATDSSO"
   },
   "outputs": [],
   "source": [
    "from sklearn.preprocessing import Normalizer"
   ]
  },
  {
   "cell_type": "code",
   "execution_count": 0,
   "metadata": {
    "colab": {},
    "colab_type": "code",
    "id": "2EkKAy7fOB6y"
   },
   "outputs": [],
   "source": [
    "transformer = Normalizer()\n",
    "X_train = transformer.fit_transform(X_train)"
   ]
  },
  {
   "cell_type": "markdown",
   "metadata": {
    "colab_type": "text",
    "id": "v6vE4eYCOB62"
   },
   "source": [
    "## Building the Model in tensorflow"
   ]
  },
  {
   "cell_type": "markdown",
   "metadata": {
    "colab_type": "text",
    "id": "297_qja4OB7A"
   },
   "source": [
    "1.Define Weights and Bias, use tf.zeros to initialize weights and Bias"
   ]
  },
  {
   "cell_type": "code",
   "execution_count": 0,
   "metadata": {
    "colab": {},
    "colab_type": "code",
    "id": "L205qPeQOB7B"
   },
   "outputs": [],
   "source": [
    "#We are initializing weights and Bias with Zero\n",
    "w = tf.zeros(shape=(4,1))\n",
    "b = tf.zeros(shape=(1))"
   ]
  },
  {
   "cell_type": "markdown",
   "metadata": {
    "colab_type": "text",
    "id": "HgtWA-UIOB7F"
   },
   "source": [
    "2.Define a function to calculate prediction"
   ]
  },
  {
   "cell_type": "code",
   "execution_count": 0,
   "metadata": {
    "colab": {},
    "colab_type": "code",
    "id": "JveGlx25OB7H"
   },
   "outputs": [],
   "source": [
    "def prediction(x, w, b):\n",
    "    \n",
    "    xw_matmul = tf.matmul(x, w)\n",
    "    y = tf.add(xw_matmul, b)\n",
    "    \n",
    "    return y"
   ]
  },
  {
   "cell_type": "markdown",
   "metadata": {
    "colab_type": "text",
    "id": "TL1hIwf_OB7M"
   },
   "source": [
    "3.Loss (Cost) Function [Mean square error]"
   ]
  },
  {
   "cell_type": "code",
   "execution_count": 0,
   "metadata": {
    "colab": {},
    "colab_type": "code",
    "id": "8VSWPiGXOB7P"
   },
   "outputs": [],
   "source": [
    "def loss(y_actual, y_predicted):\n",
    "    \n",
    "    diff = y_actual - y_predicted\n",
    "    sqr = tf.square(diff)\n",
    "    avg = tf.reduce_mean(sqr)\n",
    "    \n",
    "    return avg"
   ]
  },
  {
   "cell_type": "markdown",
   "metadata": {
    "colab_type": "text",
    "id": "jzG85FUlOB7U"
   },
   "source": [
    "4.Function to train the Model\n",
    "\n",
    "1.   Record all the mathematical steps to calculate Loss\n",
    "2.   Calculate Gradients of Loss w.r.t weights and bias\n",
    "3.   Update Weights and Bias based on gradients and learning rate to minimize loss"
   ]
  },
  {
   "cell_type": "code",
   "execution_count": 0,
   "metadata": {
    "colab": {},
    "colab_type": "code",
    "id": "cj802w-3OB7X"
   },
   "outputs": [],
   "source": [
    "def train(x, y_actual, w, b, learning_rate=0.01):\n",
    "    \n",
    "    #Record mathematical operations on 'tape' to calculate loss\n",
    "    with tf.GradientTape() as t:\n",
    "        \n",
    "        t.watch([w,b])\n",
    "        \n",
    "        current_prediction = prediction(x, w, b)\n",
    "        current_loss = loss(y_actual, current_prediction)\n",
    "    \n",
    "    #Calculate Gradients for Loss with respect to Weights and Bias\n",
    "    dw, db = t.gradient(current_loss,[w, b])\n",
    "    \n",
    "    #Update Weights and Bias\n",
    "    w = w - learning_rate*dw\n",
    "    b = b - learning_rate*db\n",
    "    \n",
    "    return w, b"
   ]
  },
  {
   "cell_type": "markdown",
   "metadata": {
    "colab_type": "text",
    "id": "xSypb_u8OB7e"
   },
   "source": [
    "## Train the model for 100 epochs \n",
    "1. Observe the training loss at every iteration\n",
    "2. Observe Train loss at every 5th iteration"
   ]
  },
  {
   "cell_type": "code",
   "execution_count": 63,
   "metadata": {
    "colab": {
     "base_uri": "https://localhost:8080/",
     "height": 1000
    },
    "colab_type": "code",
    "executionInfo": {
     "elapsed": 1223,
     "status": "ok",
     "timestamp": 1578822731470,
     "user": {
      "displayName": "Karthik Bramhambhatla",
      "photoUrl": "",
      "userId": "08439150467609654547"
     },
     "user_tz": -330
    },
    "id": "DVvgj7eQOB7f",
    "outputId": "13d05781-8081-46b4-893a-0ca91f0cfd0d"
   },
   "outputs": [
    {
     "name": "stdout",
     "output_type": "stream",
     "text": [
      "('Current Loss on iteration', 0, 273.9541)\n",
      "('Current Loss at consecutive 5th iteration', 0, 273.9541)\n",
      "('Current Loss on iteration', 1, 273.954)\n",
      "('Current Loss on iteration', 2, 273.9541)\n",
      "('Current Loss on iteration', 3, 273.95416)\n",
      "('Current Loss on iteration', 4, 273.95416)\n",
      "('Current Loss on iteration', 5, 273.95416)\n",
      "('Current Loss at consecutive 5th iteration', 5, 273.95416)\n",
      "('Current Loss on iteration', 6, 273.95416)\n",
      "('Current Loss on iteration', 7, 273.95416)\n",
      "('Current Loss on iteration', 8, 273.9541)\n",
      "('Current Loss on iteration', 9, 273.95416)\n",
      "('Current Loss on iteration', 10, 273.95416)\n",
      "('Current Loss at consecutive 5th iteration', 10, 273.95416)\n",
      "('Current Loss on iteration', 11, 273.95416)\n",
      "('Current Loss on iteration', 12, 273.95416)\n",
      "('Current Loss on iteration', 13, 273.95416)\n",
      "('Current Loss on iteration', 14, 273.95416)\n",
      "('Current Loss on iteration', 15, 273.9541)\n",
      "('Current Loss at consecutive 5th iteration', 15, 273.9541)\n",
      "('Current Loss on iteration', 16, 273.9541)\n",
      "('Current Loss on iteration', 17, 273.95416)\n",
      "('Current Loss on iteration', 18, 273.95416)\n",
      "('Current Loss on iteration', 19, 273.95413)\n",
      "('Current Loss on iteration', 20, 273.95416)\n",
      "('Current Loss at consecutive 5th iteration', 20, 273.95416)\n",
      "('Current Loss on iteration', 21, 273.9541)\n",
      "('Current Loss on iteration', 22, 273.95413)\n",
      "('Current Loss on iteration', 23, 273.95416)\n",
      "('Current Loss on iteration', 24, 273.95416)\n",
      "('Current Loss on iteration', 25, 273.95416)\n",
      "('Current Loss at consecutive 5th iteration', 25, 273.95416)\n",
      "('Current Loss on iteration', 26, 273.95416)\n",
      "('Current Loss on iteration', 27, 273.95416)\n",
      "('Current Loss on iteration', 28, 273.95416)\n",
      "('Current Loss on iteration', 29, 273.9541)\n",
      "('Current Loss on iteration', 30, 273.9541)\n",
      "('Current Loss at consecutive 5th iteration', 30, 273.9541)\n",
      "('Current Loss on iteration', 31, 273.9541)\n",
      "('Current Loss on iteration', 32, 273.95416)\n",
      "('Current Loss on iteration', 33, 273.95416)\n",
      "('Current Loss on iteration', 34, 273.95416)\n",
      "('Current Loss on iteration', 35, 273.95416)\n",
      "('Current Loss at consecutive 5th iteration', 35, 273.95416)\n",
      "('Current Loss on iteration', 36, 273.95416)\n",
      "('Current Loss on iteration', 37, 273.95422)\n",
      "('Current Loss on iteration', 38, 273.95416)\n",
      "('Current Loss on iteration', 39, 273.95416)\n",
      "('Current Loss on iteration', 40, 273.95416)\n",
      "('Current Loss at consecutive 5th iteration', 40, 273.95416)\n",
      "('Current Loss on iteration', 41, 273.95416)\n",
      "('Current Loss on iteration', 42, 273.95416)\n",
      "('Current Loss on iteration', 43, 273.95416)\n",
      "('Current Loss on iteration', 44, 273.95416)\n",
      "('Current Loss on iteration', 45, 273.95416)\n",
      "('Current Loss at consecutive 5th iteration', 45, 273.95416)\n",
      "('Current Loss on iteration', 46, 273.95416)\n",
      "('Current Loss on iteration', 47, 273.95422)\n",
      "('Current Loss on iteration', 48, 273.95422)\n",
      "('Current Loss on iteration', 49, 273.95422)\n",
      "('Current Loss on iteration', 50, 273.95422)\n",
      "('Current Loss at consecutive 5th iteration', 50, 273.95422)\n",
      "('Current Loss on iteration', 51, 273.95428)\n",
      "('Current Loss on iteration', 52, 273.95428)\n",
      "('Current Loss on iteration', 53, 273.95428)\n",
      "('Current Loss on iteration', 54, 273.95428)\n",
      "('Current Loss on iteration', 55, 273.95428)\n",
      "('Current Loss at consecutive 5th iteration', 55, 273.95428)\n",
      "('Current Loss on iteration', 56, 273.95428)\n",
      "('Current Loss on iteration', 57, 273.95428)\n",
      "('Current Loss on iteration', 58, 273.95428)\n",
      "('Current Loss on iteration', 59, 273.95428)\n",
      "('Current Loss on iteration', 60, 273.95428)\n",
      "('Current Loss at consecutive 5th iteration', 60, 273.95428)\n",
      "('Current Loss on iteration', 61, 273.95428)\n",
      "('Current Loss on iteration', 62, 273.95428)\n",
      "('Current Loss on iteration', 63, 273.95428)\n",
      "('Current Loss on iteration', 64, 273.95428)\n",
      "('Current Loss on iteration', 65, 273.95425)\n",
      "('Current Loss at consecutive 5th iteration', 65, 273.95425)\n",
      "('Current Loss on iteration', 66, 273.95428)\n",
      "('Current Loss on iteration', 67, 273.95428)\n",
      "('Current Loss on iteration', 68, 273.95428)\n",
      "('Current Loss on iteration', 69, 273.95428)\n",
      "('Current Loss on iteration', 70, 273.95428)\n",
      "('Current Loss at consecutive 5th iteration', 70, 273.95428)\n",
      "('Current Loss on iteration', 71, 273.95428)\n",
      "('Current Loss on iteration', 72, 273.95425)\n",
      "('Current Loss on iteration', 73, 273.95425)\n",
      "('Current Loss on iteration', 74, 273.95425)\n",
      "('Current Loss on iteration', 75, 273.95428)\n",
      "('Current Loss at consecutive 5th iteration', 75, 273.95428)\n",
      "('Current Loss on iteration', 76, 273.95425)\n",
      "('Current Loss on iteration', 77, 273.95425)\n",
      "('Current Loss on iteration', 78, 273.95428)\n",
      "('Current Loss on iteration', 79, 273.95425)\n",
      "('Current Loss on iteration', 80, 273.95428)\n",
      "('Current Loss at consecutive 5th iteration', 80, 273.95428)\n",
      "('Current Loss on iteration', 81, 273.95425)\n",
      "('Current Loss on iteration', 82, 273.95422)\n",
      "('Current Loss on iteration', 83, 273.95425)\n",
      "('Current Loss on iteration', 84, 273.95422)\n",
      "('Current Loss on iteration', 85, 273.95422)\n",
      "('Current Loss at consecutive 5th iteration', 85, 273.95422)\n",
      "('Current Loss on iteration', 86, 273.95422)\n",
      "('Current Loss on iteration', 87, 273.95422)\n",
      "('Current Loss on iteration', 88, 273.95422)\n",
      "('Current Loss on iteration', 89, 273.95422)\n",
      "('Current Loss on iteration', 90, 273.95422)\n",
      "('Current Loss at consecutive 5th iteration', 90, 273.95422)\n",
      "('Current Loss on iteration', 91, 273.95422)\n",
      "('Current Loss on iteration', 92, 273.95422)\n",
      "('Current Loss on iteration', 93, 273.95422)\n",
      "('Current Loss on iteration', 94, 273.95422)\n",
      "('Current Loss on iteration', 95, 273.95422)\n",
      "('Current Loss at consecutive 5th iteration', 95, 273.95422)\n",
      "('Current Loss on iteration', 96, 273.95422)\n",
      "('Current Loss on iteration', 97, 273.95422)\n",
      "('Current Loss on iteration', 98, 273.95422)\n",
      "('Current Loss on iteration', 99, 273.95422)\n"
     ]
    }
   ],
   "source": [
    "#Train for 100 Steps\n",
    "for i in range(100):\n",
    "    \n",
    "    w, b = train(X_train, y_train, w, b, learning_rate=0.01)\n",
    "    print('Current Loss on iteration', i, \n",
    "          loss(y_train, prediction(X_train, w, b)).numpy())\n",
    "    if i%5==0:\n",
    "      print('Current Loss at consecutive 5th iteration', i, \n",
    "          loss(y_train, prediction(X_train, w, b)).numpy())"
   ]
  },
  {
   "cell_type": "markdown",
   "metadata": {
    "colab_type": "text",
    "id": "DOL2ncA1OB7q"
   },
   "source": [
    "### Get the shapes and values of W and b"
   ]
  },
  {
   "cell_type": "code",
   "execution_count": 61,
   "metadata": {
    "colab": {
     "base_uri": "https://localhost:8080/",
     "height": 85
    },
    "colab_type": "code",
    "executionInfo": {
     "elapsed": 1004,
     "status": "ok",
     "timestamp": 1578822625488,
     "user": {
      "displayName": "Karthik Bramhambhatla",
      "photoUrl": "",
      "userId": "08439150467609654547"
     },
     "user_tz": -330
    },
    "id": "ZGvtyTeuOB7r",
    "outputId": "ae82f856-721c-4c7b-93a7-de36a702b11e"
   },
   "outputs": [
    {
     "name": "stdout",
     "output_type": "stream",
     "text": [
      "('Weights:\\n', array([[1.3771163],\n",
      "       [1.3818748],\n",
      "       [1.3629525],\n",
      "       [1.3934754]], dtype=float32))\n"
     ]
    }
   ],
   "source": [
    "print('Weights:\\n', w.numpy())"
   ]
  },
  {
   "cell_type": "code",
   "execution_count": 59,
   "metadata": {
    "colab": {
     "base_uri": "https://localhost:8080/",
     "height": 34
    },
    "colab_type": "code",
    "executionInfo": {
     "elapsed": 774,
     "status": "ok",
     "timestamp": 1578822601424,
     "user": {
      "displayName": "Karthik Bramhambhatla",
      "photoUrl": "",
      "userId": "08439150467609654547"
     },
     "user_tz": -330
    },
    "id": "vhDtOv5UOB7x",
    "outputId": "fb525688-5cac-4a9b-f1cb-9df9c23676da"
   },
   "outputs": [
    {
     "name": "stdout",
     "output_type": "stream",
     "text": [
      "('Bias:\\n', array([2.7578607], dtype=float32))\n"
     ]
    }
   ],
   "source": [
    "print('Bias:\\n',b.numpy())"
   ]
  },
  {
   "cell_type": "markdown",
   "metadata": {
    "colab_type": "text",
    "id": "ERq9GOKKciho"
   },
   "source": [
    "### Model Prediction on 1st Examples in Test Dataset"
   ]
  },
  {
   "cell_type": "code",
   "execution_count": 0,
   "metadata": {
    "colab": {},
    "colab_type": "code",
    "id": "gKGvUWahcihp"
   },
   "outputs": [],
   "source": [
    "transformer = Normalizer()\n",
    "X_test = transformer.fit_transform(X_test)"
   ]
  },
  {
   "cell_type": "code",
   "execution_count": 0,
   "metadata": {
    "colab": {},
    "colab_type": "code",
    "id": "9gIs52zxLuHZ"
   },
   "outputs": [],
   "source": [
    "y = prediction(X_test[:1],w,b)"
   ]
  },
  {
   "cell_type": "code",
   "execution_count": 85,
   "metadata": {
    "colab": {
     "base_uri": "https://localhost:8080/",
     "height": 34
    },
    "colab_type": "code",
    "executionInfo": {
     "elapsed": 566,
     "status": "ok",
     "timestamp": 1578823406854,
     "user": {
      "displayName": "Karthik Bramhambhatla",
      "photoUrl": "",
      "userId": "08439150467609654547"
     },
     "user_tz": -330
    },
    "id": "9WbDewh2M2vm",
    "outputId": "8455e378-6cc5-4256-910b-fcb390ce8ad7"
   },
   "outputs": [
    {
     "data": {
      "text/plain": [
       "array([[5.6101084]], dtype=float32)"
      ]
     },
     "execution_count": 85,
     "metadata": {
      "tags": []
     },
     "output_type": "execute_result"
    }
   ],
   "source": [
    "y.numpy()"
   ]
  },
  {
   "cell_type": "markdown",
   "metadata": {
    "colab_type": "text",
    "id": "YJRBuqXhOB7_"
   },
   "source": [
    "## Classification using tf.Keras\n",
    "\n",
    "In this exercise, we will build a Deep Neural Network using tf.Keras. We will use Iris Dataset for this exercise."
   ]
  },
  {
   "cell_type": "markdown",
   "metadata": {
    "colab_type": "text",
    "id": "O0g6lorycihf"
   },
   "source": [
    "### Load the given Iris data using pandas (Iris.csv)"
   ]
  },
  {
   "cell_type": "code",
   "execution_count": 0,
   "metadata": {
    "colab": {},
    "colab_type": "code",
    "id": "6xFvb5sRcihg"
   },
   "outputs": [],
   "source": [
    "iris = pd.read_csv('/gdrive/My Drive/Colab Notebooks/Residency6/Iris-2.csv')"
   ]
  },
  {
   "cell_type": "markdown",
   "metadata": {
    "colab_type": "text",
    "id": "SAB--Qdwcihm"
   },
   "source": [
    "### Target set has different categories. So, Label encode them. And convert into one-hot vectors using get_dummies in pandas."
   ]
  },
  {
   "cell_type": "code",
   "execution_count": 236,
   "metadata": {
    "colab": {
     "base_uri": "https://localhost:8080/",
     "height": 204
    },
    "colab_type": "code",
    "executionInfo": {
     "elapsed": 630,
     "status": "ok",
     "timestamp": 1578827973513,
     "user": {
      "displayName": "Karthik Bramhambhatla",
      "photoUrl": "",
      "userId": "08439150467609654547"
     },
     "user_tz": -330
    },
    "id": "bkGtmdGEab30",
    "outputId": "144fc164-5a3a-485c-fba2-fae9945753a8"
   },
   "outputs": [
    {
     "data": {
      "text/html": [
       "<div>\n",
       "<style scoped>\n",
       "    .dataframe tbody tr th:only-of-type {\n",
       "        vertical-align: middle;\n",
       "    }\n",
       "\n",
       "    .dataframe tbody tr th {\n",
       "        vertical-align: top;\n",
       "    }\n",
       "\n",
       "    .dataframe thead th {\n",
       "        text-align: right;\n",
       "    }\n",
       "</style>\n",
       "<table border=\"1\" class=\"dataframe\">\n",
       "  <thead>\n",
       "    <tr style=\"text-align: right;\">\n",
       "      <th></th>\n",
       "      <th>Id</th>\n",
       "      <th>SepalLengthCm</th>\n",
       "      <th>SepalWidthCm</th>\n",
       "      <th>PetalLengthCm</th>\n",
       "      <th>PetalWidthCm</th>\n",
       "      <th>Species</th>\n",
       "    </tr>\n",
       "  </thead>\n",
       "  <tbody>\n",
       "    <tr>\n",
       "      <th>0</th>\n",
       "      <td>1</td>\n",
       "      <td>5.1</td>\n",
       "      <td>3.5</td>\n",
       "      <td>1.4</td>\n",
       "      <td>0.2</td>\n",
       "      <td>Iris-setosa</td>\n",
       "    </tr>\n",
       "    <tr>\n",
       "      <th>1</th>\n",
       "      <td>2</td>\n",
       "      <td>4.9</td>\n",
       "      <td>3.0</td>\n",
       "      <td>1.4</td>\n",
       "      <td>0.2</td>\n",
       "      <td>Iris-setosa</td>\n",
       "    </tr>\n",
       "    <tr>\n",
       "      <th>2</th>\n",
       "      <td>3</td>\n",
       "      <td>4.7</td>\n",
       "      <td>3.2</td>\n",
       "      <td>1.3</td>\n",
       "      <td>0.2</td>\n",
       "      <td>Iris-setosa</td>\n",
       "    </tr>\n",
       "    <tr>\n",
       "      <th>3</th>\n",
       "      <td>4</td>\n",
       "      <td>4.6</td>\n",
       "      <td>3.1</td>\n",
       "      <td>1.5</td>\n",
       "      <td>0.2</td>\n",
       "      <td>Iris-setosa</td>\n",
       "    </tr>\n",
       "    <tr>\n",
       "      <th>4</th>\n",
       "      <td>5</td>\n",
       "      <td>5.0</td>\n",
       "      <td>3.6</td>\n",
       "      <td>1.4</td>\n",
       "      <td>0.2</td>\n",
       "      <td>Iris-setosa</td>\n",
       "    </tr>\n",
       "  </tbody>\n",
       "</table>\n",
       "</div>"
      ],
      "text/plain": [
       "   Id  SepalLengthCm  SepalWidthCm  PetalLengthCm  PetalWidthCm      Species\n",
       "0   1            5.1           3.5            1.4           0.2  Iris-setosa\n",
       "1   2            4.9           3.0            1.4           0.2  Iris-setosa\n",
       "2   3            4.7           3.2            1.3           0.2  Iris-setosa\n",
       "3   4            4.6           3.1            1.5           0.2  Iris-setosa\n",
       "4   5            5.0           3.6            1.4           0.2  Iris-setosa"
      ]
     },
     "execution_count": 236,
     "metadata": {
      "tags": []
     },
     "output_type": "execute_result"
    }
   ],
   "source": [
    "iris.head()"
   ]
  },
  {
   "cell_type": "code",
   "execution_count": 0,
   "metadata": {
    "colab": {},
    "colab_type": "code",
    "id": "X2Z-P_pzQteZ"
   },
   "outputs": [],
   "source": [
    "iris_df = pd.get_dummies(iris,columns=['Species'])"
   ]
  },
  {
   "cell_type": "code",
   "execution_count": 238,
   "metadata": {
    "colab": {
     "base_uri": "https://localhost:8080/",
     "height": 204
    },
    "colab_type": "code",
    "executionInfo": {
     "elapsed": 531,
     "status": "ok",
     "timestamp": 1578827975837,
     "user": {
      "displayName": "Karthik Bramhambhatla",
      "photoUrl": "",
      "userId": "08439150467609654547"
     },
     "user_tz": -330
    },
    "id": "RRZHp4alOg5L",
    "outputId": "a9c71202-ab00-42c0-9656-7ef29d65ea5c"
   },
   "outputs": [
    {
     "data": {
      "text/html": [
       "<div>\n",
       "<style scoped>\n",
       "    .dataframe tbody tr th:only-of-type {\n",
       "        vertical-align: middle;\n",
       "    }\n",
       "\n",
       "    .dataframe tbody tr th {\n",
       "        vertical-align: top;\n",
       "    }\n",
       "\n",
       "    .dataframe thead th {\n",
       "        text-align: right;\n",
       "    }\n",
       "</style>\n",
       "<table border=\"1\" class=\"dataframe\">\n",
       "  <thead>\n",
       "    <tr style=\"text-align: right;\">\n",
       "      <th></th>\n",
       "      <th>Id</th>\n",
       "      <th>SepalLengthCm</th>\n",
       "      <th>SepalWidthCm</th>\n",
       "      <th>PetalLengthCm</th>\n",
       "      <th>PetalWidthCm</th>\n",
       "      <th>Species_Iris-setosa</th>\n",
       "      <th>Species_Iris-versicolor</th>\n",
       "      <th>Species_Iris-virginica</th>\n",
       "    </tr>\n",
       "  </thead>\n",
       "  <tbody>\n",
       "    <tr>\n",
       "      <th>0</th>\n",
       "      <td>1</td>\n",
       "      <td>5.1</td>\n",
       "      <td>3.5</td>\n",
       "      <td>1.4</td>\n",
       "      <td>0.2</td>\n",
       "      <td>1</td>\n",
       "      <td>0</td>\n",
       "      <td>0</td>\n",
       "    </tr>\n",
       "    <tr>\n",
       "      <th>1</th>\n",
       "      <td>2</td>\n",
       "      <td>4.9</td>\n",
       "      <td>3.0</td>\n",
       "      <td>1.4</td>\n",
       "      <td>0.2</td>\n",
       "      <td>1</td>\n",
       "      <td>0</td>\n",
       "      <td>0</td>\n",
       "    </tr>\n",
       "    <tr>\n",
       "      <th>2</th>\n",
       "      <td>3</td>\n",
       "      <td>4.7</td>\n",
       "      <td>3.2</td>\n",
       "      <td>1.3</td>\n",
       "      <td>0.2</td>\n",
       "      <td>1</td>\n",
       "      <td>0</td>\n",
       "      <td>0</td>\n",
       "    </tr>\n",
       "    <tr>\n",
       "      <th>3</th>\n",
       "      <td>4</td>\n",
       "      <td>4.6</td>\n",
       "      <td>3.1</td>\n",
       "      <td>1.5</td>\n",
       "      <td>0.2</td>\n",
       "      <td>1</td>\n",
       "      <td>0</td>\n",
       "      <td>0</td>\n",
       "    </tr>\n",
       "    <tr>\n",
       "      <th>4</th>\n",
       "      <td>5</td>\n",
       "      <td>5.0</td>\n",
       "      <td>3.6</td>\n",
       "      <td>1.4</td>\n",
       "      <td>0.2</td>\n",
       "      <td>1</td>\n",
       "      <td>0</td>\n",
       "      <td>0</td>\n",
       "    </tr>\n",
       "  </tbody>\n",
       "</table>\n",
       "</div>"
      ],
      "text/plain": [
       "   Id  SepalLengthCm  ...  Species_Iris-versicolor  Species_Iris-virginica\n",
       "0   1            5.1  ...                        0                       0\n",
       "1   2            4.9  ...                        0                       0\n",
       "2   3            4.7  ...                        0                       0\n",
       "3   4            4.6  ...                        0                       0\n",
       "4   5            5.0  ...                        0                       0\n",
       "\n",
       "[5 rows x 8 columns]"
      ]
     },
     "execution_count": 238,
     "metadata": {
      "tags": []
     },
     "output_type": "execute_result"
    }
   ],
   "source": [
    "iris_df.head()"
   ]
  },
  {
   "cell_type": "markdown",
   "metadata": {
    "colab_type": "text",
    "id": "D95nY5ILcihj"
   },
   "source": [
    "### Splitting the data into feature set and target set"
   ]
  },
  {
   "cell_type": "code",
   "execution_count": 0,
   "metadata": {
    "colab": {},
    "colab_type": "code",
    "id": "THv_myu-PC6Y"
   },
   "outputs": [],
   "source": [
    "X = iris_df[['SepalLengthCm','SepalWidthCm','PetalLengthCm','PetalWidthCm']]\n",
    "y = iris_df[['Species_Iris-setosa','Species_Iris-versicolor','Species_Iris-virginica']]"
   ]
  },
  {
   "cell_type": "code",
   "execution_count": 240,
   "metadata": {
    "colab": {
     "base_uri": "https://localhost:8080/",
     "height": 204
    },
    "colab_type": "code",
    "executionInfo": {
     "elapsed": 584,
     "status": "ok",
     "timestamp": 1578827981528,
     "user": {
      "displayName": "Karthik Bramhambhatla",
      "photoUrl": "",
      "userId": "08439150467609654547"
     },
     "user_tz": -330
    },
    "id": "zGb_MbHDSnXY",
    "outputId": "90c85d11-c929-422a-f0f5-2a62b283670b"
   },
   "outputs": [
    {
     "data": {
      "text/html": [
       "<div>\n",
       "<style scoped>\n",
       "    .dataframe tbody tr th:only-of-type {\n",
       "        vertical-align: middle;\n",
       "    }\n",
       "\n",
       "    .dataframe tbody tr th {\n",
       "        vertical-align: top;\n",
       "    }\n",
       "\n",
       "    .dataframe thead th {\n",
       "        text-align: right;\n",
       "    }\n",
       "</style>\n",
       "<table border=\"1\" class=\"dataframe\">\n",
       "  <thead>\n",
       "    <tr style=\"text-align: right;\">\n",
       "      <th></th>\n",
       "      <th>SepalLengthCm</th>\n",
       "      <th>SepalWidthCm</th>\n",
       "      <th>PetalLengthCm</th>\n",
       "      <th>PetalWidthCm</th>\n",
       "    </tr>\n",
       "  </thead>\n",
       "  <tbody>\n",
       "    <tr>\n",
       "      <th>0</th>\n",
       "      <td>5.1</td>\n",
       "      <td>3.5</td>\n",
       "      <td>1.4</td>\n",
       "      <td>0.2</td>\n",
       "    </tr>\n",
       "    <tr>\n",
       "      <th>1</th>\n",
       "      <td>4.9</td>\n",
       "      <td>3.0</td>\n",
       "      <td>1.4</td>\n",
       "      <td>0.2</td>\n",
       "    </tr>\n",
       "    <tr>\n",
       "      <th>2</th>\n",
       "      <td>4.7</td>\n",
       "      <td>3.2</td>\n",
       "      <td>1.3</td>\n",
       "      <td>0.2</td>\n",
       "    </tr>\n",
       "    <tr>\n",
       "      <th>3</th>\n",
       "      <td>4.6</td>\n",
       "      <td>3.1</td>\n",
       "      <td>1.5</td>\n",
       "      <td>0.2</td>\n",
       "    </tr>\n",
       "    <tr>\n",
       "      <th>4</th>\n",
       "      <td>5.0</td>\n",
       "      <td>3.6</td>\n",
       "      <td>1.4</td>\n",
       "      <td>0.2</td>\n",
       "    </tr>\n",
       "  </tbody>\n",
       "</table>\n",
       "</div>"
      ],
      "text/plain": [
       "   SepalLengthCm  SepalWidthCm  PetalLengthCm  PetalWidthCm\n",
       "0            5.1           3.5            1.4           0.2\n",
       "1            4.9           3.0            1.4           0.2\n",
       "2            4.7           3.2            1.3           0.2\n",
       "3            4.6           3.1            1.5           0.2\n",
       "4            5.0           3.6            1.4           0.2"
      ]
     },
     "execution_count": 240,
     "metadata": {
      "tags": []
     },
     "output_type": "execute_result"
    }
   ],
   "source": [
    "X.head()"
   ]
  },
  {
   "cell_type": "code",
   "execution_count": 241,
   "metadata": {
    "colab": {
     "base_uri": "https://localhost:8080/",
     "height": 204
    },
    "colab_type": "code",
    "executionInfo": {
     "elapsed": 562,
     "status": "ok",
     "timestamp": 1578827982642,
     "user": {
      "displayName": "Karthik Bramhambhatla",
      "photoUrl": "",
      "userId": "08439150467609654547"
     },
     "user_tz": -330
    },
    "id": "HIEHk07nSpnz",
    "outputId": "a22507a3-a59a-4d64-8f20-3b9ca1f79626"
   },
   "outputs": [
    {
     "data": {
      "text/html": [
       "<div>\n",
       "<style scoped>\n",
       "    .dataframe tbody tr th:only-of-type {\n",
       "        vertical-align: middle;\n",
       "    }\n",
       "\n",
       "    .dataframe tbody tr th {\n",
       "        vertical-align: top;\n",
       "    }\n",
       "\n",
       "    .dataframe thead th {\n",
       "        text-align: right;\n",
       "    }\n",
       "</style>\n",
       "<table border=\"1\" class=\"dataframe\">\n",
       "  <thead>\n",
       "    <tr style=\"text-align: right;\">\n",
       "      <th></th>\n",
       "      <th>Species_Iris-setosa</th>\n",
       "      <th>Species_Iris-versicolor</th>\n",
       "      <th>Species_Iris-virginica</th>\n",
       "    </tr>\n",
       "  </thead>\n",
       "  <tbody>\n",
       "    <tr>\n",
       "      <th>0</th>\n",
       "      <td>1</td>\n",
       "      <td>0</td>\n",
       "      <td>0</td>\n",
       "    </tr>\n",
       "    <tr>\n",
       "      <th>1</th>\n",
       "      <td>1</td>\n",
       "      <td>0</td>\n",
       "      <td>0</td>\n",
       "    </tr>\n",
       "    <tr>\n",
       "      <th>2</th>\n",
       "      <td>1</td>\n",
       "      <td>0</td>\n",
       "      <td>0</td>\n",
       "    </tr>\n",
       "    <tr>\n",
       "      <th>3</th>\n",
       "      <td>1</td>\n",
       "      <td>0</td>\n",
       "      <td>0</td>\n",
       "    </tr>\n",
       "    <tr>\n",
       "      <th>4</th>\n",
       "      <td>1</td>\n",
       "      <td>0</td>\n",
       "      <td>0</td>\n",
       "    </tr>\n",
       "  </tbody>\n",
       "</table>\n",
       "</div>"
      ],
      "text/plain": [
       "   Species_Iris-setosa  Species_Iris-versicolor  Species_Iris-virginica\n",
       "0                    1                        0                       0\n",
       "1                    1                        0                       0\n",
       "2                    1                        0                       0\n",
       "3                    1                        0                       0\n",
       "4                    1                        0                       0"
      ]
     },
     "execution_count": 241,
     "metadata": {
      "tags": []
     },
     "output_type": "execute_result"
    }
   ],
   "source": [
    "y.head()"
   ]
  },
  {
   "cell_type": "code",
   "execution_count": 0,
   "metadata": {
    "colab": {},
    "colab_type": "code",
    "id": "RyMQoLMucihj"
   },
   "outputs": [],
   "source": [
    "seed = 7  # Random numbmer seeding for reapeatability of the code\n",
    "trainX, testX, trainy, testy = train_test_split(X,y,test_size=0.3, random_state=seed)"
   ]
  },
  {
   "cell_type": "code",
   "execution_count": 243,
   "metadata": {
    "colab": {
     "base_uri": "https://localhost:8080/",
     "height": 204
    },
    "colab_type": "code",
    "executionInfo": {
     "elapsed": 515,
     "status": "ok",
     "timestamp": 1578827985023,
     "user": {
      "displayName": "Karthik Bramhambhatla",
      "photoUrl": "",
      "userId": "08439150467609654547"
     },
     "user_tz": -330
    },
    "id": "jZ-mVB2NYMsD",
    "outputId": "9e03e671-5839-46dd-fafd-6db6b2b6db63"
   },
   "outputs": [
    {
     "data": {
      "text/html": [
       "<div>\n",
       "<style scoped>\n",
       "    .dataframe tbody tr th:only-of-type {\n",
       "        vertical-align: middle;\n",
       "    }\n",
       "\n",
       "    .dataframe tbody tr th {\n",
       "        vertical-align: top;\n",
       "    }\n",
       "\n",
       "    .dataframe thead th {\n",
       "        text-align: right;\n",
       "    }\n",
       "</style>\n",
       "<table border=\"1\" class=\"dataframe\">\n",
       "  <thead>\n",
       "    <tr style=\"text-align: right;\">\n",
       "      <th></th>\n",
       "      <th>SepalLengthCm</th>\n",
       "      <th>SepalWidthCm</th>\n",
       "      <th>PetalLengthCm</th>\n",
       "      <th>PetalWidthCm</th>\n",
       "    </tr>\n",
       "  </thead>\n",
       "  <tbody>\n",
       "    <tr>\n",
       "      <th>49</th>\n",
       "      <td>5.0</td>\n",
       "      <td>3.3</td>\n",
       "      <td>1.4</td>\n",
       "      <td>0.2</td>\n",
       "    </tr>\n",
       "    <tr>\n",
       "      <th>65</th>\n",
       "      <td>6.7</td>\n",
       "      <td>3.1</td>\n",
       "      <td>4.4</td>\n",
       "      <td>1.4</td>\n",
       "    </tr>\n",
       "    <tr>\n",
       "      <th>62</th>\n",
       "      <td>6.0</td>\n",
       "      <td>2.2</td>\n",
       "      <td>4.0</td>\n",
       "      <td>1.0</td>\n",
       "    </tr>\n",
       "    <tr>\n",
       "      <th>111</th>\n",
       "      <td>6.4</td>\n",
       "      <td>2.7</td>\n",
       "      <td>5.3</td>\n",
       "      <td>1.9</td>\n",
       "    </tr>\n",
       "    <tr>\n",
       "      <th>29</th>\n",
       "      <td>4.7</td>\n",
       "      <td>3.2</td>\n",
       "      <td>1.6</td>\n",
       "      <td>0.2</td>\n",
       "    </tr>\n",
       "  </tbody>\n",
       "</table>\n",
       "</div>"
      ],
      "text/plain": [
       "     SepalLengthCm  SepalWidthCm  PetalLengthCm  PetalWidthCm\n",
       "49             5.0           3.3            1.4           0.2\n",
       "65             6.7           3.1            4.4           1.4\n",
       "62             6.0           2.2            4.0           1.0\n",
       "111            6.4           2.7            5.3           1.9\n",
       "29             4.7           3.2            1.6           0.2"
      ]
     },
     "execution_count": 243,
     "metadata": {
      "tags": []
     },
     "output_type": "execute_result"
    }
   ],
   "source": [
    "trainX.head()"
   ]
  },
  {
   "cell_type": "code",
   "execution_count": 0,
   "metadata": {
    "colab": {},
    "colab_type": "code",
    "id": "bcF4CEV3S0JQ"
   },
   "outputs": [],
   "source": [
    "#trainy = tf.keras.utils.to_categorical(trainy, num_classes=3)\n",
    "#testy = tf.keras.utils.to_categorical(testy, num_classes=3)"
   ]
  },
  {
   "cell_type": "code",
   "execution_count": 245,
   "metadata": {
    "colab": {
     "base_uri": "https://localhost:8080/",
     "height": 204
    },
    "colab_type": "code",
    "executionInfo": {
     "elapsed": 508,
     "status": "ok",
     "timestamp": 1578827987803,
     "user": {
      "displayName": "Karthik Bramhambhatla",
      "photoUrl": "",
      "userId": "08439150467609654547"
     },
     "user_tz": -330
    },
    "id": "hLYNFy75YUrA",
    "outputId": "f1336532-301a-4d63-9737-4d7ac090b3c0"
   },
   "outputs": [
    {
     "data": {
      "text/html": [
       "<div>\n",
       "<style scoped>\n",
       "    .dataframe tbody tr th:only-of-type {\n",
       "        vertical-align: middle;\n",
       "    }\n",
       "\n",
       "    .dataframe tbody tr th {\n",
       "        vertical-align: top;\n",
       "    }\n",
       "\n",
       "    .dataframe thead th {\n",
       "        text-align: right;\n",
       "    }\n",
       "</style>\n",
       "<table border=\"1\" class=\"dataframe\">\n",
       "  <thead>\n",
       "    <tr style=\"text-align: right;\">\n",
       "      <th></th>\n",
       "      <th>Species_Iris-setosa</th>\n",
       "      <th>Species_Iris-versicolor</th>\n",
       "      <th>Species_Iris-virginica</th>\n",
       "    </tr>\n",
       "  </thead>\n",
       "  <tbody>\n",
       "    <tr>\n",
       "      <th>49</th>\n",
       "      <td>1</td>\n",
       "      <td>0</td>\n",
       "      <td>0</td>\n",
       "    </tr>\n",
       "    <tr>\n",
       "      <th>65</th>\n",
       "      <td>0</td>\n",
       "      <td>1</td>\n",
       "      <td>0</td>\n",
       "    </tr>\n",
       "    <tr>\n",
       "      <th>62</th>\n",
       "      <td>0</td>\n",
       "      <td>1</td>\n",
       "      <td>0</td>\n",
       "    </tr>\n",
       "    <tr>\n",
       "      <th>111</th>\n",
       "      <td>0</td>\n",
       "      <td>0</td>\n",
       "      <td>1</td>\n",
       "    </tr>\n",
       "    <tr>\n",
       "      <th>29</th>\n",
       "      <td>1</td>\n",
       "      <td>0</td>\n",
       "      <td>0</td>\n",
       "    </tr>\n",
       "  </tbody>\n",
       "</table>\n",
       "</div>"
      ],
      "text/plain": [
       "     Species_Iris-setosa  Species_Iris-versicolor  Species_Iris-virginica\n",
       "49                     1                        0                       0\n",
       "65                     0                        1                       0\n",
       "62                     0                        1                       0\n",
       "111                    0                        0                       1\n",
       "29                     1                        0                       0"
      ]
     },
     "execution_count": 245,
     "metadata": {
      "tags": []
     },
     "output_type": "execute_result"
    }
   ],
   "source": [
    "trainy.head()"
   ]
  },
  {
   "cell_type": "code",
   "execution_count": 246,
   "metadata": {
    "colab": {
     "base_uri": "https://localhost:8080/",
     "height": 204
    },
    "colab_type": "code",
    "executionInfo": {
     "elapsed": 745,
     "status": "ok",
     "timestamp": 1578827992997,
     "user": {
      "displayName": "Karthik Bramhambhatla",
      "photoUrl": "",
      "userId": "08439150467609654547"
     },
     "user_tz": -330
    },
    "id": "GnfguQQJWEYy",
    "outputId": "09f7ee12-32b2-4111-9beb-9f120baf4bb4"
   },
   "outputs": [
    {
     "data": {
      "text/html": [
       "<div>\n",
       "<style scoped>\n",
       "    .dataframe tbody tr th:only-of-type {\n",
       "        vertical-align: middle;\n",
       "    }\n",
       "\n",
       "    .dataframe tbody tr th {\n",
       "        vertical-align: top;\n",
       "    }\n",
       "\n",
       "    .dataframe thead th {\n",
       "        text-align: right;\n",
       "    }\n",
       "</style>\n",
       "<table border=\"1\" class=\"dataframe\">\n",
       "  <thead>\n",
       "    <tr style=\"text-align: right;\">\n",
       "      <th></th>\n",
       "      <th>SepalLengthCm</th>\n",
       "      <th>SepalWidthCm</th>\n",
       "      <th>PetalLengthCm</th>\n",
       "      <th>PetalWidthCm</th>\n",
       "    </tr>\n",
       "  </thead>\n",
       "  <tbody>\n",
       "    <tr>\n",
       "      <th>149</th>\n",
       "      <td>5.9</td>\n",
       "      <td>3.0</td>\n",
       "      <td>5.1</td>\n",
       "      <td>1.8</td>\n",
       "    </tr>\n",
       "    <tr>\n",
       "      <th>84</th>\n",
       "      <td>5.4</td>\n",
       "      <td>3.0</td>\n",
       "      <td>4.5</td>\n",
       "      <td>1.5</td>\n",
       "    </tr>\n",
       "    <tr>\n",
       "      <th>40</th>\n",
       "      <td>5.0</td>\n",
       "      <td>3.5</td>\n",
       "      <td>1.3</td>\n",
       "      <td>0.3</td>\n",
       "    </tr>\n",
       "    <tr>\n",
       "      <th>66</th>\n",
       "      <td>5.6</td>\n",
       "      <td>3.0</td>\n",
       "      <td>4.5</td>\n",
       "      <td>1.5</td>\n",
       "    </tr>\n",
       "    <tr>\n",
       "      <th>106</th>\n",
       "      <td>4.9</td>\n",
       "      <td>2.5</td>\n",
       "      <td>4.5</td>\n",
       "      <td>1.7</td>\n",
       "    </tr>\n",
       "  </tbody>\n",
       "</table>\n",
       "</div>"
      ],
      "text/plain": [
       "     SepalLengthCm  SepalWidthCm  PetalLengthCm  PetalWidthCm\n",
       "149            5.9           3.0            5.1           1.8\n",
       "84             5.4           3.0            4.5           1.5\n",
       "40             5.0           3.5            1.3           0.3\n",
       "66             5.6           3.0            4.5           1.5\n",
       "106            4.9           2.5            4.5           1.7"
      ]
     },
     "execution_count": 246,
     "metadata": {
      "tags": []
     },
     "output_type": "execute_result"
    }
   ],
   "source": [
    "testX.head()"
   ]
  },
  {
   "cell_type": "markdown",
   "metadata": {
    "colab_type": "text",
    "id": "b22qpC5xcihr"
   },
   "source": [
    "###  Building Model in tf.keras\n",
    "\n",
    "Build a Linear Classifier model  <br>\n",
    "1.  Use Dense Layer  with input shape of 4 (according to the feature set) and number of outputs set to 3<br> \n",
    "2. Apply Softmax on Dense Layer outputs <br>\n",
    "3. Use SGD as Optimizer\n",
    "4. Use categorical_crossentropy as loss function "
   ]
  },
  {
   "cell_type": "code",
   "execution_count": 0,
   "metadata": {
    "colab": {},
    "colab_type": "code",
    "id": "Hov_UFnUciht"
   },
   "outputs": [],
   "source": [
    "#Initialize Sequential model\n",
    "model = tf.keras.models.Sequential()\n",
    "\n",
    "#Normalize the data\n",
    "#model.add(tf.keras.layers.BatchNormalization())"
   ]
  },
  {
   "cell_type": "code",
   "execution_count": 0,
   "metadata": {
    "colab": {},
    "colab_type": "code",
    "id": "1H1ya6teUKG_"
   },
   "outputs": [],
   "source": [
    "#Add INPUT layer\n",
    "model.add(tf.keras.layers.Dense(4, input_shape = (4,), activation='sigmoid'))"
   ]
  },
  {
   "cell_type": "code",
   "execution_count": 0,
   "metadata": {
    "colab": {},
    "colab_type": "code",
    "id": "yVpSt4XZTurW"
   },
   "outputs": [],
   "source": [
    "#Add OUTPUT layer\n",
    "#model.add(tf.keras.layers.Dense(3, input_shape = (4,), activation='softmax'))\n",
    "model.add(tf.keras.layers.Dense(3, activation='softmax'))"
   ]
  },
  {
   "cell_type": "code",
   "execution_count": 0,
   "metadata": {
    "colab": {},
    "colab_type": "code",
    "id": "TiKHdNXYUQyl"
   },
   "outputs": [],
   "source": [
    "#Compile the model\n",
    "model.compile(optimizer='sgd', loss='categorical_crossentropy', \n",
    "              metrics=['accuracy'])"
   ]
  },
  {
   "cell_type": "markdown",
   "metadata": {
    "colab_type": "text",
    "id": "T5FdzqIKcihw"
   },
   "source": [
    "### Model Training "
   ]
  },
  {
   "cell_type": "code",
   "execution_count": 251,
   "metadata": {
    "colab": {
     "base_uri": "https://localhost:8080/",
     "height": 1000
    },
    "colab_type": "code",
    "executionInfo": {
     "elapsed": 5565,
     "status": "ok",
     "timestamp": 1578828012350,
     "user": {
      "displayName": "Karthik Bramhambhatla",
      "photoUrl": "",
      "userId": "08439150467609654547"
     },
     "user_tz": -330
    },
    "id": "4qLEdHPscihx",
    "outputId": "1c386789-9429-45ed-d324-2a91d2b49edc"
   },
   "outputs": [
    {
     "name": "stderr",
     "output_type": "stream",
     "text": [
      "W0112 11:20:06.942454 140705068746624 training.py:503] Falling back from v2 loop because of error: Failed to find data adapter that can handle input: <class 'pandas.core.frame.DataFrame'>, <type 'NoneType'>\n"
     ]
    },
    {
     "name": "stdout",
     "output_type": "stream",
     "text": [
      "Train on 105 samples, validate on 45 samples\n",
      "Epoch 1/300\n",
      "105/105 [==============================] - 0s 1ms/sample - loss: 1.1625 - acc: 0.3619 - val_loss: 1.2238 - val_acc: 0.2667\n",
      "Epoch 2/300\n",
      "105/105 [==============================] - 0s 99us/sample - loss: 1.1574 - acc: 0.3619 - val_loss: 1.2179 - val_acc: 0.2667\n",
      "Epoch 3/300\n",
      "105/105 [==============================] - 0s 94us/sample - loss: 1.1532 - acc: 0.3619 - val_loss: 1.2125 - val_acc: 0.2667\n",
      "Epoch 4/300\n",
      "105/105 [==============================] - 0s 95us/sample - loss: 1.1497 - acc: 0.3619 - val_loss: 1.2087 - val_acc: 0.2667\n",
      "Epoch 5/300\n",
      "105/105 [==============================] - 0s 94us/sample - loss: 1.1463 - acc: 0.3619 - val_loss: 1.2042 - val_acc: 0.2667\n",
      "Epoch 6/300\n",
      "105/105 [==============================] - 0s 99us/sample - loss: 1.1431 - acc: 0.3619 - val_loss: 1.2004 - val_acc: 0.2667\n",
      "Epoch 7/300\n",
      "105/105 [==============================] - 0s 87us/sample - loss: 1.1404 - acc: 0.3619 - val_loss: 1.1957 - val_acc: 0.2667\n",
      "Epoch 8/300\n",
      "105/105 [==============================] - 0s 94us/sample - loss: 1.1377 - acc: 0.3619 - val_loss: 1.1906 - val_acc: 0.2667\n",
      "Epoch 9/300\n",
      "105/105 [==============================] - 0s 92us/sample - loss: 1.1342 - acc: 0.3619 - val_loss: 1.1876 - val_acc: 0.2667\n",
      "Epoch 10/300\n",
      "105/105 [==============================] - 0s 90us/sample - loss: 1.1320 - acc: 0.3619 - val_loss: 1.1823 - val_acc: 0.2667\n",
      "Epoch 11/300\n",
      "105/105 [==============================] - 0s 96us/sample - loss: 1.1284 - acc: 0.3619 - val_loss: 1.1794 - val_acc: 0.2667\n",
      "Epoch 12/300\n",
      "105/105 [==============================] - 0s 91us/sample - loss: 1.1262 - acc: 0.3619 - val_loss: 1.1745 - val_acc: 0.2667\n",
      "Epoch 13/300\n",
      "105/105 [==============================] - 0s 91us/sample - loss: 1.1232 - acc: 0.3619 - val_loss: 1.1708 - val_acc: 0.2667\n",
      "Epoch 14/300\n",
      "105/105 [==============================] - 0s 102us/sample - loss: 1.1206 - acc: 0.3619 - val_loss: 1.1665 - val_acc: 0.2667\n",
      "Epoch 15/300\n",
      "105/105 [==============================] - 0s 106us/sample - loss: 1.1174 - acc: 0.3619 - val_loss: 1.1627 - val_acc: 0.2667\n",
      "Epoch 16/300\n",
      "105/105 [==============================] - 0s 106us/sample - loss: 1.1149 - acc: 0.3619 - val_loss: 1.1600 - val_acc: 0.2667\n",
      "Epoch 17/300\n",
      "105/105 [==============================] - 0s 113us/sample - loss: 1.1127 - acc: 0.3619 - val_loss: 1.1549 - val_acc: 0.2667\n",
      "Epoch 18/300\n",
      "105/105 [==============================] - 0s 107us/sample - loss: 1.1097 - acc: 0.3619 - val_loss: 1.1521 - val_acc: 0.2667\n",
      "Epoch 19/300\n",
      "105/105 [==============================] - 0s 114us/sample - loss: 1.1077 - acc: 0.3619 - val_loss: 1.1490 - val_acc: 0.2667\n",
      "Epoch 20/300\n",
      "105/105 [==============================] - 0s 126us/sample - loss: 1.1055 - acc: 0.3619 - val_loss: 1.1444 - val_acc: 0.2667\n",
      "Epoch 21/300\n",
      "105/105 [==============================] - 0s 105us/sample - loss: 1.1033 - acc: 0.3619 - val_loss: 1.1424 - val_acc: 0.2667\n",
      "Epoch 22/300\n",
      "105/105 [==============================] - 0s 123us/sample - loss: 1.1014 - acc: 0.3619 - val_loss: 1.1409 - val_acc: 0.2667\n",
      "Epoch 23/300\n",
      "105/105 [==============================] - 0s 109us/sample - loss: 1.1004 - acc: 0.3619 - val_loss: 1.1380 - val_acc: 0.2667\n",
      "Epoch 24/300\n",
      "105/105 [==============================] - 0s 105us/sample - loss: 1.0985 - acc: 0.3619 - val_loss: 1.1363 - val_acc: 0.2667\n",
      "Epoch 25/300\n",
      "105/105 [==============================] - 0s 108us/sample - loss: 1.0976 - acc: 0.3619 - val_loss: 1.1348 - val_acc: 0.2667\n",
      "Epoch 26/300\n",
      "105/105 [==============================] - 0s 119us/sample - loss: 1.0962 - acc: 0.3619 - val_loss: 1.1319 - val_acc: 0.2667\n",
      "Epoch 27/300\n",
      "105/105 [==============================] - 0s 130us/sample - loss: 1.0947 - acc: 0.3619 - val_loss: 1.1306 - val_acc: 0.2667\n",
      "Epoch 28/300\n",
      "105/105 [==============================] - 0s 122us/sample - loss: 1.0936 - acc: 0.3619 - val_loss: 1.1302 - val_acc: 0.2667\n",
      "Epoch 29/300\n",
      "105/105 [==============================] - 0s 112us/sample - loss: 1.0925 - acc: 0.3619 - val_loss: 1.1278 - val_acc: 0.2667\n",
      "Epoch 30/300\n",
      "105/105 [==============================] - 0s 117us/sample - loss: 1.0919 - acc: 0.3619 - val_loss: 1.1264 - val_acc: 0.2667\n",
      "Epoch 31/300\n",
      "105/105 [==============================] - 0s 116us/sample - loss: 1.0906 - acc: 0.3619 - val_loss: 1.1249 - val_acc: 0.2667\n",
      "Epoch 32/300\n",
      "105/105 [==============================] - 0s 119us/sample - loss: 1.0894 - acc: 0.3619 - val_loss: 1.1236 - val_acc: 0.2667\n",
      "Epoch 33/300\n",
      "105/105 [==============================] - 0s 128us/sample - loss: 1.0887 - acc: 0.3619 - val_loss: 1.1202 - val_acc: 0.2667\n",
      "Epoch 34/300\n",
      "105/105 [==============================] - 0s 111us/sample - loss: 1.0867 - acc: 0.3619 - val_loss: 1.1179 - val_acc: 0.2667\n",
      "Epoch 35/300\n",
      "105/105 [==============================] - 0s 125us/sample - loss: 1.0857 - acc: 0.3619 - val_loss: 1.1162 - val_acc: 0.2667\n",
      "Epoch 36/300\n",
      "105/105 [==============================] - 0s 128us/sample - loss: 1.0845 - acc: 0.3619 - val_loss: 1.1156 - val_acc: 0.2667\n",
      "Epoch 37/300\n",
      "105/105 [==============================] - 0s 120us/sample - loss: 1.0836 - acc: 0.3619 - val_loss: 1.1137 - val_acc: 0.2667\n",
      "Epoch 38/300\n",
      "105/105 [==============================] - 0s 167us/sample - loss: 1.0824 - acc: 0.3619 - val_loss: 1.1124 - val_acc: 0.2667\n",
      "Epoch 39/300\n",
      "105/105 [==============================] - 0s 118us/sample - loss: 1.0815 - acc: 0.3619 - val_loss: 1.1099 - val_acc: 0.2667\n",
      "Epoch 40/300\n",
      "105/105 [==============================] - 0s 99us/sample - loss: 1.0802 - acc: 0.3619 - val_loss: 1.1076 - val_acc: 0.2667\n",
      "Epoch 41/300\n",
      "105/105 [==============================] - 0s 114us/sample - loss: 1.0795 - acc: 0.3619 - val_loss: 1.1053 - val_acc: 0.2667\n",
      "Epoch 42/300\n",
      "105/105 [==============================] - 0s 112us/sample - loss: 1.0780 - acc: 0.3619 - val_loss: 1.1035 - val_acc: 0.2667\n",
      "Epoch 43/300\n",
      "105/105 [==============================] - 0s 101us/sample - loss: 1.0770 - acc: 0.3619 - val_loss: 1.1025 - val_acc: 0.2667\n",
      "Epoch 44/300\n",
      "105/105 [==============================] - 0s 111us/sample - loss: 1.0762 - acc: 0.3619 - val_loss: 1.1015 - val_acc: 0.2667\n",
      "Epoch 45/300\n",
      "105/105 [==============================] - 0s 145us/sample - loss: 1.0755 - acc: 0.3619 - val_loss: 1.1006 - val_acc: 0.2667\n",
      "Epoch 46/300\n",
      "105/105 [==============================] - 0s 113us/sample - loss: 1.0743 - acc: 0.3619 - val_loss: 1.0989 - val_acc: 0.2667\n",
      "Epoch 47/300\n",
      "105/105 [==============================] - 0s 110us/sample - loss: 1.0736 - acc: 0.3619 - val_loss: 1.0975 - val_acc: 0.2667\n",
      "Epoch 48/300\n",
      "105/105 [==============================] - 0s 106us/sample - loss: 1.0727 - acc: 0.3619 - val_loss: 1.0955 - val_acc: 0.2667\n",
      "Epoch 49/300\n",
      "105/105 [==============================] - 0s 114us/sample - loss: 1.0716 - acc: 0.3619 - val_loss: 1.0950 - val_acc: 0.2667\n",
      "Epoch 50/300\n",
      "105/105 [==============================] - 0s 130us/sample - loss: 1.0709 - acc: 0.3619 - val_loss: 1.0943 - val_acc: 0.2667\n",
      "Epoch 51/300\n",
      "105/105 [==============================] - 0s 101us/sample - loss: 1.0706 - acc: 0.3619 - val_loss: 1.0936 - val_acc: 0.2667\n",
      "Epoch 52/300\n",
      "105/105 [==============================] - 0s 112us/sample - loss: 1.0695 - acc: 0.3619 - val_loss: 1.0924 - val_acc: 0.2667\n",
      "Epoch 53/300\n",
      "105/105 [==============================] - 0s 107us/sample - loss: 1.0689 - acc: 0.3619 - val_loss: 1.0911 - val_acc: 0.2667\n",
      "Epoch 54/300\n",
      "105/105 [==============================] - 0s 126us/sample - loss: 1.0677 - acc: 0.3619 - val_loss: 1.0887 - val_acc: 0.2667\n",
      "Epoch 55/300\n",
      "105/105 [==============================] - 0s 102us/sample - loss: 1.0667 - acc: 0.3619 - val_loss: 1.0878 - val_acc: 0.2667\n",
      "Epoch 56/300\n",
      "105/105 [==============================] - 0s 107us/sample - loss: 1.0657 - acc: 0.3619 - val_loss: 1.0871 - val_acc: 0.2667\n",
      "Epoch 57/300\n",
      "105/105 [==============================] - 0s 152us/sample - loss: 1.0650 - acc: 0.3619 - val_loss: 1.0870 - val_acc: 0.2667\n",
      "Epoch 58/300\n",
      "105/105 [==============================] - 0s 129us/sample - loss: 1.0644 - acc: 0.3619 - val_loss: 1.0863 - val_acc: 0.2667\n",
      "Epoch 59/300\n",
      "105/105 [==============================] - 0s 120us/sample - loss: 1.0634 - acc: 0.3619 - val_loss: 1.0843 - val_acc: 0.2667\n",
      "Epoch 60/300\n",
      "105/105 [==============================] - 0s 119us/sample - loss: 1.0625 - acc: 0.3619 - val_loss: 1.0835 - val_acc: 0.2667\n",
      "Epoch 61/300\n",
      "105/105 [==============================] - 0s 96us/sample - loss: 1.0613 - acc: 0.3619 - val_loss: 1.0832 - val_acc: 0.2667\n",
      "Epoch 62/300\n",
      "105/105 [==============================] - 0s 105us/sample - loss: 1.0604 - acc: 0.3619 - val_loss: 1.0821 - val_acc: 0.2667\n",
      "Epoch 63/300\n",
      "105/105 [==============================] - 0s 89us/sample - loss: 1.0595 - acc: 0.3619 - val_loss: 1.0815 - val_acc: 0.2667\n",
      "Epoch 64/300\n",
      "105/105 [==============================] - 0s 142us/sample - loss: 1.0585 - acc: 0.3619 - val_loss: 1.0799 - val_acc: 0.2667\n",
      "Epoch 65/300\n",
      "105/105 [==============================] - 0s 95us/sample - loss: 1.0572 - acc: 0.3619 - val_loss: 1.0792 - val_acc: 0.2667\n",
      "Epoch 66/300\n",
      "105/105 [==============================] - 0s 124us/sample - loss: 1.0561 - acc: 0.3619 - val_loss: 1.0779 - val_acc: 0.2667\n",
      "Epoch 67/300\n",
      "105/105 [==============================] - 0s 96us/sample - loss: 1.0549 - acc: 0.3619 - val_loss: 1.0772 - val_acc: 0.2667\n",
      "Epoch 68/300\n",
      "105/105 [==============================] - 0s 99us/sample - loss: 1.0537 - acc: 0.3619 - val_loss: 1.0750 - val_acc: 0.2667\n",
      "Epoch 69/300\n",
      "105/105 [==============================] - 0s 95us/sample - loss: 1.0526 - acc: 0.3619 - val_loss: 1.0733 - val_acc: 0.2667\n",
      "Epoch 70/300\n",
      "105/105 [==============================] - 0s 116us/sample - loss: 1.0507 - acc: 0.3714 - val_loss: 1.0727 - val_acc: 0.2667\n",
      "Epoch 71/300\n",
      "105/105 [==============================] - 0s 98us/sample - loss: 1.0494 - acc: 0.3714 - val_loss: 1.0709 - val_acc: 0.2667\n",
      "Epoch 72/300\n",
      "105/105 [==============================] - 0s 99us/sample - loss: 1.0485 - acc: 0.3714 - val_loss: 1.0687 - val_acc: 0.2667\n",
      "Epoch 73/300\n",
      "105/105 [==============================] - 0s 102us/sample - loss: 1.0467 - acc: 0.3714 - val_loss: 1.0664 - val_acc: 0.2889\n",
      "Epoch 74/300\n",
      "105/105 [==============================] - 0s 99us/sample - loss: 1.0448 - acc: 0.3905 - val_loss: 1.0653 - val_acc: 0.3111\n",
      "Epoch 75/300\n",
      "105/105 [==============================] - 0s 99us/sample - loss: 1.0433 - acc: 0.4000 - val_loss: 1.0632 - val_acc: 0.3111\n",
      "Epoch 76/300\n",
      "105/105 [==============================] - 0s 99us/sample - loss: 1.0416 - acc: 0.4190 - val_loss: 1.0614 - val_acc: 0.3111\n",
      "Epoch 77/300\n",
      "105/105 [==============================] - 0s 109us/sample - loss: 1.0398 - acc: 0.3905 - val_loss: 1.0604 - val_acc: 0.2667\n",
      "Epoch 78/300\n",
      "105/105 [==============================] - 0s 104us/sample - loss: 1.0382 - acc: 0.3905 - val_loss: 1.0587 - val_acc: 0.2667\n",
      "Epoch 79/300\n",
      "105/105 [==============================] - 0s 91us/sample - loss: 1.0363 - acc: 0.3905 - val_loss: 1.0567 - val_acc: 0.3111\n",
      "Epoch 80/300\n",
      "105/105 [==============================] - 0s 122us/sample - loss: 1.0340 - acc: 0.4000 - val_loss: 1.0541 - val_acc: 0.3111\n",
      "Epoch 81/300\n",
      "105/105 [==============================] - 0s 99us/sample - loss: 1.0318 - acc: 0.4190 - val_loss: 1.0520 - val_acc: 0.3111\n",
      "Epoch 82/300\n",
      "105/105 [==============================] - 0s 107us/sample - loss: 1.0297 - acc: 0.4190 - val_loss: 1.0505 - val_acc: 0.3111\n",
      "Epoch 83/300\n",
      "105/105 [==============================] - 0s 106us/sample - loss: 1.0277 - acc: 0.4286 - val_loss: 1.0480 - val_acc: 0.3111\n",
      "Epoch 84/300\n",
      "105/105 [==============================] - 0s 91us/sample - loss: 1.0248 - acc: 0.4381 - val_loss: 1.0450 - val_acc: 0.3333\n",
      "Epoch 85/300\n",
      "105/105 [==============================] - 0s 97us/sample - loss: 1.0222 - acc: 0.4667 - val_loss: 1.0426 - val_acc: 0.3333\n",
      "Epoch 86/300\n",
      "105/105 [==============================] - 0s 111us/sample - loss: 1.0200 - acc: 0.4571 - val_loss: 1.0390 - val_acc: 0.3333\n",
      "Epoch 87/300\n",
      "105/105 [==============================] - 0s 113us/sample - loss: 1.0166 - acc: 0.4857 - val_loss: 1.0348 - val_acc: 0.5111\n",
      "Epoch 88/300\n",
      "105/105 [==============================] - 0s 104us/sample - loss: 1.0132 - acc: 0.5238 - val_loss: 1.0316 - val_acc: 0.5333\n",
      "Epoch 89/300\n",
      "105/105 [==============================] - 0s 92us/sample - loss: 1.0101 - acc: 0.5429 - val_loss: 1.0279 - val_acc: 0.5556\n",
      "Epoch 90/300\n",
      "105/105 [==============================] - 0s 118us/sample - loss: 1.0070 - acc: 0.5714 - val_loss: 1.0251 - val_acc: 0.6222\n",
      "Epoch 91/300\n",
      "105/105 [==============================] - 0s 123us/sample - loss: 1.0037 - acc: 0.5714 - val_loss: 1.0210 - val_acc: 0.6222\n",
      "Epoch 92/300\n",
      "105/105 [==============================] - 0s 122us/sample - loss: 1.0003 - acc: 0.6286 - val_loss: 1.0182 - val_acc: 0.6444\n",
      "Epoch 93/300\n",
      "105/105 [==============================] - 0s 124us/sample - loss: 0.9972 - acc: 0.6190 - val_loss: 1.0154 - val_acc: 0.6667\n",
      "Epoch 94/300\n",
      "105/105 [==============================] - 0s 106us/sample - loss: 0.9942 - acc: 0.6571 - val_loss: 1.0105 - val_acc: 0.6889\n",
      "Epoch 95/300\n",
      "105/105 [==============================] - 0s 104us/sample - loss: 0.9907 - acc: 0.6571 - val_loss: 1.0060 - val_acc: 0.7333\n",
      "Epoch 96/300\n",
      "105/105 [==============================] - 0s 111us/sample - loss: 0.9870 - acc: 0.6667 - val_loss: 1.0015 - val_acc: 0.6667\n",
      "Epoch 97/300\n",
      "105/105 [==============================] - 0s 131us/sample - loss: 0.9835 - acc: 0.6857 - val_loss: 0.9972 - val_acc: 0.6444\n",
      "Epoch 98/300\n",
      "105/105 [==============================] - 0s 159us/sample - loss: 0.9798 - acc: 0.6857 - val_loss: 0.9939 - val_acc: 0.6667\n",
      "Epoch 99/300\n",
      "105/105 [==============================] - 0s 114us/sample - loss: 0.9768 - acc: 0.6762 - val_loss: 0.9907 - val_acc: 0.6667\n",
      "Epoch 100/300\n",
      "105/105 [==============================] - 0s 98us/sample - loss: 0.9738 - acc: 0.6762 - val_loss: 0.9874 - val_acc: 0.6444\n",
      "Epoch 101/300\n",
      "105/105 [==============================] - 0s 107us/sample - loss: 0.9709 - acc: 0.6762 - val_loss: 0.9849 - val_acc: 0.6444\n",
      "Epoch 102/300\n",
      "105/105 [==============================] - 0s 101us/sample - loss: 0.9678 - acc: 0.6762 - val_loss: 0.9813 - val_acc: 0.6444\n",
      "Epoch 103/300\n",
      "105/105 [==============================] - 0s 103us/sample - loss: 0.9648 - acc: 0.6762 - val_loss: 0.9784 - val_acc: 0.6444\n",
      "Epoch 104/300\n",
      "105/105 [==============================] - 0s 108us/sample - loss: 0.9622 - acc: 0.6762 - val_loss: 0.9748 - val_acc: 0.6444\n",
      "Epoch 105/300\n",
      "105/105 [==============================] - 0s 109us/sample - loss: 0.9596 - acc: 0.6762 - val_loss: 0.9719 - val_acc: 0.6444\n",
      "Epoch 106/300\n",
      "105/105 [==============================] - 0s 130us/sample - loss: 0.9573 - acc: 0.6762 - val_loss: 0.9694 - val_acc: 0.6444\n",
      "Epoch 107/300\n",
      "105/105 [==============================] - 0s 108us/sample - loss: 0.9545 - acc: 0.6762 - val_loss: 0.9665 - val_acc: 0.6444\n",
      "Epoch 108/300\n",
      "105/105 [==============================] - 0s 114us/sample - loss: 0.9521 - acc: 0.6762 - val_loss: 0.9647 - val_acc: 0.6444\n",
      "Epoch 109/300\n",
      "105/105 [==============================] - 0s 92us/sample - loss: 0.9498 - acc: 0.6762 - val_loss: 0.9620 - val_acc: 0.6444\n",
      "Epoch 110/300\n",
      "105/105 [==============================] - 0s 128us/sample - loss: 0.9476 - acc: 0.6857 - val_loss: 0.9602 - val_acc: 0.6444\n",
      "Epoch 111/300\n",
      "105/105 [==============================] - 0s 100us/sample - loss: 0.9453 - acc: 0.6857 - val_loss: 0.9580 - val_acc: 0.6444\n",
      "Epoch 112/300\n",
      "105/105 [==============================] - 0s 105us/sample - loss: 0.9432 - acc: 0.6762 - val_loss: 0.9572 - val_acc: 0.6444\n",
      "Epoch 113/300\n",
      "105/105 [==============================] - 0s 114us/sample - loss: 0.9409 - acc: 0.6762 - val_loss: 0.9550 - val_acc: 0.6444\n",
      "Epoch 114/300\n",
      "105/105 [==============================] - 0s 94us/sample - loss: 0.9390 - acc: 0.6857 - val_loss: 0.9532 - val_acc: 0.6444\n",
      "Epoch 115/300\n",
      "105/105 [==============================] - 0s 84us/sample - loss: 0.9369 - acc: 0.6762 - val_loss: 0.9517 - val_acc: 0.6444\n",
      "Epoch 116/300\n",
      "105/105 [==============================] - 0s 93us/sample - loss: 0.9347 - acc: 0.6762 - val_loss: 0.9495 - val_acc: 0.6444\n",
      "Epoch 117/300\n",
      "105/105 [==============================] - 0s 109us/sample - loss: 0.9330 - acc: 0.6857 - val_loss: 0.9482 - val_acc: 0.6444\n",
      "Epoch 118/300\n",
      "105/105 [==============================] - 0s 93us/sample - loss: 0.9307 - acc: 0.6857 - val_loss: 0.9467 - val_acc: 0.6444\n",
      "Epoch 119/300\n",
      "105/105 [==============================] - 0s 167us/sample - loss: 0.9288 - acc: 0.6762 - val_loss: 0.9457 - val_acc: 0.6444\n",
      "Epoch 120/300\n",
      "105/105 [==============================] - 0s 116us/sample - loss: 0.9267 - acc: 0.6762 - val_loss: 0.9438 - val_acc: 0.6444\n",
      "Epoch 121/300\n",
      "105/105 [==============================] - 0s 110us/sample - loss: 0.9249 - acc: 0.6762 - val_loss: 0.9417 - val_acc: 0.6444\n",
      "Epoch 122/300\n",
      "105/105 [==============================] - 0s 110us/sample - loss: 0.9230 - acc: 0.6762 - val_loss: 0.9406 - val_acc: 0.6444\n",
      "Epoch 123/300\n",
      "105/105 [==============================] - 0s 121us/sample - loss: 0.9211 - acc: 0.6762 - val_loss: 0.9392 - val_acc: 0.6444\n",
      "Epoch 124/300\n",
      "105/105 [==============================] - 0s 121us/sample - loss: 0.9194 - acc: 0.6762 - val_loss: 0.9384 - val_acc: 0.6444\n",
      "Epoch 125/300\n",
      "105/105 [==============================] - 0s 146us/sample - loss: 0.9174 - acc: 0.6762 - val_loss: 0.9365 - val_acc: 0.6444\n",
      "Epoch 126/300\n",
      "105/105 [==============================] - 0s 143us/sample - loss: 0.9156 - acc: 0.6762 - val_loss: 0.9347 - val_acc: 0.6444\n",
      "Epoch 127/300\n",
      "105/105 [==============================] - 0s 96us/sample - loss: 0.9136 - acc: 0.6762 - val_loss: 0.9333 - val_acc: 0.6444\n",
      "Epoch 128/300\n",
      "105/105 [==============================] - 0s 118us/sample - loss: 0.9118 - acc: 0.6762 - val_loss: 0.9317 - val_acc: 0.6444\n",
      "Epoch 129/300\n",
      "105/105 [==============================] - 0s 116us/sample - loss: 0.9102 - acc: 0.6762 - val_loss: 0.9302 - val_acc: 0.6444\n",
      "Epoch 130/300\n",
      "105/105 [==============================] - 0s 106us/sample - loss: 0.9084 - acc: 0.6762 - val_loss: 0.9284 - val_acc: 0.6444\n",
      "Epoch 131/300\n",
      "105/105 [==============================] - 0s 112us/sample - loss: 0.9067 - acc: 0.6762 - val_loss: 0.9276 - val_acc: 0.6444\n",
      "Epoch 132/300\n",
      "105/105 [==============================] - 0s 116us/sample - loss: 0.9050 - acc: 0.6762 - val_loss: 0.9262 - val_acc: 0.6444\n",
      "Epoch 133/300\n",
      "105/105 [==============================] - 0s 133us/sample - loss: 0.9032 - acc: 0.6762 - val_loss: 0.9244 - val_acc: 0.6444\n",
      "Epoch 134/300\n",
      "105/105 [==============================] - 0s 117us/sample - loss: 0.9016 - acc: 0.6762 - val_loss: 0.9228 - val_acc: 0.6444\n",
      "Epoch 135/300\n",
      "105/105 [==============================] - 0s 120us/sample - loss: 0.9005 - acc: 0.6762 - val_loss: 0.9208 - val_acc: 0.6444\n",
      "Epoch 136/300\n",
      "105/105 [==============================] - 0s 122us/sample - loss: 0.8979 - acc: 0.6762 - val_loss: 0.9192 - val_acc: 0.6444\n",
      "Epoch 137/300\n",
      "105/105 [==============================] - 0s 124us/sample - loss: 0.8962 - acc: 0.6857 - val_loss: 0.9176 - val_acc: 0.6444\n",
      "Epoch 138/300\n",
      "105/105 [==============================] - 0s 121us/sample - loss: 0.8945 - acc: 0.6857 - val_loss: 0.9159 - val_acc: 0.6444\n",
      "Epoch 139/300\n",
      "105/105 [==============================] - 0s 133us/sample - loss: 0.8929 - acc: 0.6857 - val_loss: 0.9145 - val_acc: 0.6444\n",
      "Epoch 140/300\n",
      "105/105 [==============================] - 0s 95us/sample - loss: 0.8913 - acc: 0.6857 - val_loss: 0.9125 - val_acc: 0.6444\n",
      "Epoch 141/300\n",
      "105/105 [==============================] - 0s 101us/sample - loss: 0.8894 - acc: 0.6857 - val_loss: 0.9112 - val_acc: 0.6444\n",
      "Epoch 142/300\n",
      "105/105 [==============================] - 0s 92us/sample - loss: 0.8876 - acc: 0.6762 - val_loss: 0.9096 - val_acc: 0.6444\n",
      "Epoch 143/300\n",
      "105/105 [==============================] - 0s 98us/sample - loss: 0.8861 - acc: 0.6857 - val_loss: 0.9083 - val_acc: 0.6444\n",
      "Epoch 144/300\n",
      "105/105 [==============================] - 0s 101us/sample - loss: 0.8843 - acc: 0.6857 - val_loss: 0.9068 - val_acc: 0.6444\n",
      "Epoch 145/300\n",
      "105/105 [==============================] - 0s 106us/sample - loss: 0.8827 - acc: 0.6857 - val_loss: 0.9058 - val_acc: 0.6444\n",
      "Epoch 146/300\n",
      "105/105 [==============================] - 0s 122us/sample - loss: 0.8810 - acc: 0.6857 - val_loss: 0.9047 - val_acc: 0.6444\n",
      "Epoch 147/300\n",
      "105/105 [==============================] - 0s 145us/sample - loss: 0.8792 - acc: 0.6857 - val_loss: 0.9031 - val_acc: 0.6444\n",
      "Epoch 148/300\n",
      "105/105 [==============================] - 0s 110us/sample - loss: 0.8775 - acc: 0.6857 - val_loss: 0.9016 - val_acc: 0.6444\n",
      "Epoch 149/300\n",
      "105/105 [==============================] - 0s 100us/sample - loss: 0.8761 - acc: 0.6857 - val_loss: 0.9007 - val_acc: 0.6444\n",
      "Epoch 150/300\n",
      "105/105 [==============================] - 0s 116us/sample - loss: 0.8741 - acc: 0.6857 - val_loss: 0.8990 - val_acc: 0.6444\n",
      "Epoch 151/300\n",
      "105/105 [==============================] - 0s 124us/sample - loss: 0.8725 - acc: 0.6857 - val_loss: 0.8971 - val_acc: 0.6444\n",
      "Epoch 152/300\n",
      "105/105 [==============================] - 0s 105us/sample - loss: 0.8713 - acc: 0.6857 - val_loss: 0.8948 - val_acc: 0.6444\n",
      "Epoch 153/300\n",
      "105/105 [==============================] - 0s 91us/sample - loss: 0.8695 - acc: 0.6857 - val_loss: 0.8934 - val_acc: 0.6444\n",
      "Epoch 154/300\n",
      "105/105 [==============================] - 0s 111us/sample - loss: 0.8679 - acc: 0.6857 - val_loss: 0.8919 - val_acc: 0.6444\n",
      "Epoch 155/300\n",
      "105/105 [==============================] - 0s 87us/sample - loss: 0.8659 - acc: 0.6857 - val_loss: 0.8903 - val_acc: 0.6444\n",
      "Epoch 156/300\n",
      "105/105 [==============================] - 0s 101us/sample - loss: 0.8644 - acc: 0.6762 - val_loss: 0.8884 - val_acc: 0.6444\n",
      "Epoch 157/300\n",
      "105/105 [==============================] - 0s 101us/sample - loss: 0.8627 - acc: 0.6857 - val_loss: 0.8865 - val_acc: 0.6444\n",
      "Epoch 158/300\n",
      "105/105 [==============================] - 0s 114us/sample - loss: 0.8612 - acc: 0.6857 - val_loss: 0.8853 - val_acc: 0.6444\n",
      "Epoch 159/300\n",
      "105/105 [==============================] - 0s 109us/sample - loss: 0.8595 - acc: 0.6857 - val_loss: 0.8840 - val_acc: 0.6444\n",
      "Epoch 160/300\n",
      "105/105 [==============================] - 0s 115us/sample - loss: 0.8577 - acc: 0.6857 - val_loss: 0.8826 - val_acc: 0.6444\n",
      "Epoch 161/300\n",
      "105/105 [==============================] - 0s 119us/sample - loss: 0.8563 - acc: 0.6762 - val_loss: 0.8807 - val_acc: 0.6444\n",
      "Epoch 162/300\n",
      "105/105 [==============================] - 0s 98us/sample - loss: 0.8546 - acc: 0.6857 - val_loss: 0.8792 - val_acc: 0.6444\n",
      "Epoch 163/300\n",
      "105/105 [==============================] - 0s 100us/sample - loss: 0.8530 - acc: 0.6857 - val_loss: 0.8779 - val_acc: 0.6444\n",
      "Epoch 164/300\n",
      "105/105 [==============================] - 0s 133us/sample - loss: 0.8512 - acc: 0.6857 - val_loss: 0.8762 - val_acc: 0.6444\n",
      "Epoch 165/300\n",
      "105/105 [==============================] - 0s 109us/sample - loss: 0.8498 - acc: 0.6857 - val_loss: 0.8747 - val_acc: 0.6444\n",
      "Epoch 166/300\n",
      "105/105 [==============================] - 0s 111us/sample - loss: 0.8483 - acc: 0.6762 - val_loss: 0.8733 - val_acc: 0.6444\n",
      "Epoch 167/300\n",
      "105/105 [==============================] - 0s 93us/sample - loss: 0.8468 - acc: 0.6857 - val_loss: 0.8716 - val_acc: 0.6444\n",
      "Epoch 168/300\n",
      "105/105 [==============================] - 0s 94us/sample - loss: 0.8452 - acc: 0.6762 - val_loss: 0.8709 - val_acc: 0.6444\n",
      "Epoch 169/300\n",
      "105/105 [==============================] - 0s 98us/sample - loss: 0.8432 - acc: 0.6762 - val_loss: 0.8692 - val_acc: 0.6444\n",
      "Epoch 170/300\n",
      "105/105 [==============================] - 0s 103us/sample - loss: 0.8416 - acc: 0.6857 - val_loss: 0.8680 - val_acc: 0.6444\n",
      "Epoch 171/300\n",
      "105/105 [==============================] - 0s 103us/sample - loss: 0.8400 - acc: 0.6762 - val_loss: 0.8666 - val_acc: 0.6444\n",
      "Epoch 172/300\n",
      "105/105 [==============================] - 0s 91us/sample - loss: 0.8383 - acc: 0.6762 - val_loss: 0.8652 - val_acc: 0.6444\n",
      "Epoch 173/300\n",
      "105/105 [==============================] - 0s 101us/sample - loss: 0.8369 - acc: 0.6857 - val_loss: 0.8631 - val_acc: 0.6444\n",
      "Epoch 174/300\n",
      "105/105 [==============================] - 0s 88us/sample - loss: 0.8355 - acc: 0.6762 - val_loss: 0.8615 - val_acc: 0.6444\n",
      "Epoch 175/300\n",
      "105/105 [==============================] - 0s 104us/sample - loss: 0.8336 - acc: 0.6762 - val_loss: 0.8601 - val_acc: 0.6444\n",
      "Epoch 176/300\n",
      "105/105 [==============================] - 0s 100us/sample - loss: 0.8320 - acc: 0.6762 - val_loss: 0.8589 - val_acc: 0.6444\n",
      "Epoch 177/300\n",
      "105/105 [==============================] - 0s 118us/sample - loss: 0.8307 - acc: 0.6762 - val_loss: 0.8572 - val_acc: 0.6444\n",
      "Epoch 178/300\n",
      "105/105 [==============================] - 0s 133us/sample - loss: 0.8294 - acc: 0.6762 - val_loss: 0.8563 - val_acc: 0.6444\n",
      "Epoch 179/300\n",
      "105/105 [==============================] - 0s 140us/sample - loss: 0.8274 - acc: 0.6762 - val_loss: 0.8548 - val_acc: 0.6444\n",
      "Epoch 180/300\n",
      "105/105 [==============================] - 0s 144us/sample - loss: 0.8257 - acc: 0.6762 - val_loss: 0.8528 - val_acc: 0.6444\n",
      "Epoch 181/300\n",
      "105/105 [==============================] - 0s 128us/sample - loss: 0.8244 - acc: 0.6762 - val_loss: 0.8510 - val_acc: 0.6444\n",
      "Epoch 182/300\n",
      "105/105 [==============================] - 0s 101us/sample - loss: 0.8228 - acc: 0.6762 - val_loss: 0.8496 - val_acc: 0.6444\n",
      "Epoch 183/300\n",
      "105/105 [==============================] - 0s 113us/sample - loss: 0.8213 - acc: 0.6762 - val_loss: 0.8479 - val_acc: 0.6444\n",
      "Epoch 184/300\n",
      "105/105 [==============================] - 0s 86us/sample - loss: 0.8198 - acc: 0.6762 - val_loss: 0.8470 - val_acc: 0.6444\n",
      "Epoch 185/300\n",
      "105/105 [==============================] - 0s 99us/sample - loss: 0.8183 - acc: 0.6762 - val_loss: 0.8454 - val_acc: 0.6444\n",
      "Epoch 186/300\n",
      "105/105 [==============================] - 0s 113us/sample - loss: 0.8168 - acc: 0.6762 - val_loss: 0.8447 - val_acc: 0.6444\n",
      "Epoch 187/300\n",
      "105/105 [==============================] - 0s 113us/sample - loss: 0.8150 - acc: 0.6762 - val_loss: 0.8439 - val_acc: 0.6444\n",
      "Epoch 188/300\n",
      "105/105 [==============================] - 0s 150us/sample - loss: 0.8135 - acc: 0.6762 - val_loss: 0.8424 - val_acc: 0.6444\n",
      "Epoch 189/300\n",
      "105/105 [==============================] - 0s 100us/sample - loss: 0.8118 - acc: 0.6762 - val_loss: 0.8411 - val_acc: 0.6444\n",
      "Epoch 190/300\n",
      "105/105 [==============================] - 0s 105us/sample - loss: 0.8103 - acc: 0.6762 - val_loss: 0.8396 - val_acc: 0.6444\n",
      "Epoch 191/300\n",
      "105/105 [==============================] - 0s 115us/sample - loss: 0.8090 - acc: 0.6762 - val_loss: 0.8389 - val_acc: 0.6444\n",
      "Epoch 192/300\n",
      "105/105 [==============================] - 0s 94us/sample - loss: 0.8071 - acc: 0.6762 - val_loss: 0.8369 - val_acc: 0.6444\n",
      "Epoch 193/300\n",
      "105/105 [==============================] - 0s 111us/sample - loss: 0.8056 - acc: 0.6762 - val_loss: 0.8360 - val_acc: 0.6444\n",
      "Epoch 194/300\n",
      "105/105 [==============================] - 0s 128us/sample - loss: 0.8039 - acc: 0.6762 - val_loss: 0.8348 - val_acc: 0.6444\n",
      "Epoch 195/300\n",
      "105/105 [==============================] - 0s 114us/sample - loss: 0.8025 - acc: 0.6762 - val_loss: 0.8338 - val_acc: 0.6444\n",
      "Epoch 196/300\n",
      "105/105 [==============================] - 0s 103us/sample - loss: 0.8009 - acc: 0.6762 - val_loss: 0.8320 - val_acc: 0.6444\n",
      "Epoch 197/300\n",
      "105/105 [==============================] - 0s 102us/sample - loss: 0.7995 - acc: 0.6762 - val_loss: 0.8308 - val_acc: 0.6444\n",
      "Epoch 198/300\n",
      "105/105 [==============================] - 0s 123us/sample - loss: 0.7982 - acc: 0.6762 - val_loss: 0.8296 - val_acc: 0.6444\n",
      "Epoch 199/300\n",
      "105/105 [==============================] - 0s 119us/sample - loss: 0.7963 - acc: 0.6762 - val_loss: 0.8280 - val_acc: 0.6444\n",
      "Epoch 200/300\n",
      "105/105 [==============================] - 0s 124us/sample - loss: 0.7948 - acc: 0.6762 - val_loss: 0.8268 - val_acc: 0.6444\n",
      "Epoch 201/300\n",
      "105/105 [==============================] - 0s 106us/sample - loss: 0.7933 - acc: 0.6762 - val_loss: 0.8251 - val_acc: 0.6444\n",
      "Epoch 202/300\n",
      "105/105 [==============================] - 0s 93us/sample - loss: 0.7918 - acc: 0.6762 - val_loss: 0.8237 - val_acc: 0.6444\n",
      "Epoch 203/300\n",
      "105/105 [==============================] - 0s 114us/sample - loss: 0.7904 - acc: 0.6762 - val_loss: 0.8228 - val_acc: 0.6444\n",
      "Epoch 204/300\n",
      "105/105 [==============================] - 0s 150us/sample - loss: 0.7888 - acc: 0.6762 - val_loss: 0.8212 - val_acc: 0.6444\n",
      "Epoch 205/300\n",
      "105/105 [==============================] - 0s 82us/sample - loss: 0.7873 - acc: 0.6857 - val_loss: 0.8197 - val_acc: 0.6444\n",
      "Epoch 206/300\n",
      "105/105 [==============================] - 0s 110us/sample - loss: 0.7860 - acc: 0.6857 - val_loss: 0.8183 - val_acc: 0.6444\n",
      "Epoch 207/300\n",
      "105/105 [==============================] - 0s 96us/sample - loss: 0.7843 - acc: 0.6857 - val_loss: 0.8168 - val_acc: 0.6444\n",
      "Epoch 208/300\n",
      "105/105 [==============================] - 0s 115us/sample - loss: 0.7829 - acc: 0.6857 - val_loss: 0.8159 - val_acc: 0.6444\n",
      "Epoch 209/300\n",
      "105/105 [==============================] - 0s 110us/sample - loss: 0.7815 - acc: 0.6857 - val_loss: 0.8146 - val_acc: 0.6444\n",
      "Epoch 210/300\n",
      "105/105 [==============================] - 0s 89us/sample - loss: 0.7802 - acc: 0.6857 - val_loss: 0.8132 - val_acc: 0.6444\n",
      "Epoch 211/300\n",
      "105/105 [==============================] - 0s 102us/sample - loss: 0.7789 - acc: 0.6857 - val_loss: 0.8122 - val_acc: 0.6444\n",
      "Epoch 212/300\n",
      "105/105 [==============================] - 0s 78us/sample - loss: 0.7770 - acc: 0.6857 - val_loss: 0.8110 - val_acc: 0.6444\n",
      "Epoch 213/300\n",
      "105/105 [==============================] - 0s 135us/sample - loss: 0.7758 - acc: 0.6857 - val_loss: 0.8097 - val_acc: 0.6444\n",
      "Epoch 214/300\n",
      "105/105 [==============================] - 0s 127us/sample - loss: 0.7743 - acc: 0.6857 - val_loss: 0.8083 - val_acc: 0.6444\n",
      "Epoch 215/300\n",
      "105/105 [==============================] - 0s 164us/sample - loss: 0.7727 - acc: 0.6857 - val_loss: 0.8066 - val_acc: 0.6444\n",
      "Epoch 216/300\n",
      "105/105 [==============================] - 0s 114us/sample - loss: 0.7715 - acc: 0.6857 - val_loss: 0.8052 - val_acc: 0.6444\n",
      "Epoch 217/300\n",
      "105/105 [==============================] - 0s 142us/sample - loss: 0.7702 - acc: 0.6952 - val_loss: 0.8043 - val_acc: 0.6444\n",
      "Epoch 218/300\n",
      "105/105 [==============================] - 0s 110us/sample - loss: 0.7688 - acc: 0.6857 - val_loss: 0.8030 - val_acc: 0.6444\n",
      "Epoch 219/300\n",
      "105/105 [==============================] - 0s 142us/sample - loss: 0.7672 - acc: 0.6857 - val_loss: 0.8022 - val_acc: 0.6667\n",
      "Epoch 220/300\n",
      "105/105 [==============================] - 0s 123us/sample - loss: 0.7659 - acc: 0.6857 - val_loss: 0.8003 - val_acc: 0.6667\n",
      "Epoch 221/300\n",
      "105/105 [==============================] - 0s 130us/sample - loss: 0.7645 - acc: 0.6857 - val_loss: 0.7986 - val_acc: 0.6667\n",
      "Epoch 222/300\n",
      "105/105 [==============================] - 0s 108us/sample - loss: 0.7630 - acc: 0.7048 - val_loss: 0.7973 - val_acc: 0.6667\n",
      "Epoch 223/300\n",
      "105/105 [==============================] - 0s 129us/sample - loss: 0.7618 - acc: 0.7143 - val_loss: 0.7958 - val_acc: 0.6667\n",
      "Epoch 224/300\n",
      "105/105 [==============================] - 0s 98us/sample - loss: 0.7605 - acc: 0.7048 - val_loss: 0.7948 - val_acc: 0.6667\n",
      "Epoch 225/300\n",
      "105/105 [==============================] - 0s 128us/sample - loss: 0.7592 - acc: 0.6952 - val_loss: 0.7935 - val_acc: 0.6667\n",
      "Epoch 226/300\n",
      "105/105 [==============================] - 0s 115us/sample - loss: 0.7576 - acc: 0.6952 - val_loss: 0.7928 - val_acc: 0.6667\n",
      "Epoch 227/300\n",
      "105/105 [==============================] - 0s 124us/sample - loss: 0.7567 - acc: 0.7048 - val_loss: 0.7920 - val_acc: 0.6667\n",
      "Epoch 228/300\n",
      "105/105 [==============================] - 0s 98us/sample - loss: 0.7548 - acc: 0.7143 - val_loss: 0.7910 - val_acc: 0.7111\n",
      "Epoch 229/300\n",
      "105/105 [==============================] - 0s 86us/sample - loss: 0.7534 - acc: 0.7333 - val_loss: 0.7895 - val_acc: 0.6667\n",
      "Epoch 230/300\n",
      "105/105 [==============================] - 0s 96us/sample - loss: 0.7523 - acc: 0.7333 - val_loss: 0.7885 - val_acc: 0.6667\n",
      "Epoch 231/300\n",
      "105/105 [==============================] - 0s 113us/sample - loss: 0.7508 - acc: 0.7143 - val_loss: 0.7876 - val_acc: 0.7111\n",
      "Epoch 232/300\n",
      "105/105 [==============================] - 0s 182us/sample - loss: 0.7497 - acc: 0.7333 - val_loss: 0.7866 - val_acc: 0.7111\n",
      "Epoch 233/300\n",
      "105/105 [==============================] - 0s 128us/sample - loss: 0.7483 - acc: 0.7333 - val_loss: 0.7857 - val_acc: 0.7111\n",
      "Epoch 234/300\n",
      "105/105 [==============================] - 0s 91us/sample - loss: 0.7469 - acc: 0.7429 - val_loss: 0.7842 - val_acc: 0.7333\n",
      "Epoch 235/300\n",
      "105/105 [==============================] - 0s 112us/sample - loss: 0.7455 - acc: 0.7619 - val_loss: 0.7829 - val_acc: 0.7333\n",
      "Epoch 236/300\n",
      "105/105 [==============================] - 0s 98us/sample - loss: 0.7442 - acc: 0.7714 - val_loss: 0.7814 - val_acc: 0.7111\n",
      "Epoch 237/300\n",
      "105/105 [==============================] - 0s 99us/sample - loss: 0.7429 - acc: 0.7524 - val_loss: 0.7804 - val_acc: 0.6889\n",
      "Epoch 238/300\n",
      "105/105 [==============================] - 0s 109us/sample - loss: 0.7416 - acc: 0.7333 - val_loss: 0.7793 - val_acc: 0.7111\n",
      "Epoch 239/300\n",
      "105/105 [==============================] - 0s 93us/sample - loss: 0.7404 - acc: 0.7333 - val_loss: 0.7785 - val_acc: 0.7111\n",
      "Epoch 240/300\n",
      "105/105 [==============================] - 0s 104us/sample - loss: 0.7395 - acc: 0.7619 - val_loss: 0.7767 - val_acc: 0.7111\n",
      "Epoch 241/300\n",
      "105/105 [==============================] - 0s 135us/sample - loss: 0.7378 - acc: 0.7429 - val_loss: 0.7755 - val_acc: 0.6889\n",
      "Epoch 242/300\n",
      "105/105 [==============================] - 0s 154us/sample - loss: 0.7365 - acc: 0.7333 - val_loss: 0.7742 - val_acc: 0.7111\n",
      "Epoch 243/300\n",
      "105/105 [==============================] - 0s 116us/sample - loss: 0.7354 - acc: 0.7524 - val_loss: 0.7734 - val_acc: 0.6667\n",
      "Epoch 244/300\n",
      "105/105 [==============================] - 0s 108us/sample - loss: 0.7343 - acc: 0.7333 - val_loss: 0.7720 - val_acc: 0.7111\n",
      "Epoch 245/300\n",
      "105/105 [==============================] - 0s 113us/sample - loss: 0.7327 - acc: 0.7429 - val_loss: 0.7715 - val_acc: 0.7111\n",
      "Epoch 246/300\n",
      "105/105 [==============================] - 0s 154us/sample - loss: 0.7315 - acc: 0.7524 - val_loss: 0.7703 - val_acc: 0.7111\n",
      "Epoch 247/300\n",
      "105/105 [==============================] - 0s 141us/sample - loss: 0.7301 - acc: 0.7619 - val_loss: 0.7693 - val_acc: 0.7333\n",
      "Epoch 248/300\n",
      "105/105 [==============================] - 0s 156us/sample - loss: 0.7292 - acc: 0.7714 - val_loss: 0.7680 - val_acc: 0.7333\n",
      "Epoch 249/300\n",
      "105/105 [==============================] - 0s 105us/sample - loss: 0.7276 - acc: 0.7714 - val_loss: 0.7671 - val_acc: 0.7111\n",
      "Epoch 250/300\n",
      "105/105 [==============================] - 0s 103us/sample - loss: 0.7265 - acc: 0.7524 - val_loss: 0.7657 - val_acc: 0.7111\n",
      "Epoch 251/300\n",
      "105/105 [==============================] - 0s 96us/sample - loss: 0.7252 - acc: 0.7238 - val_loss: 0.7646 - val_acc: 0.7111\n",
      "Epoch 252/300\n",
      "105/105 [==============================] - 0s 114us/sample - loss: 0.7239 - acc: 0.7429 - val_loss: 0.7634 - val_acc: 0.6667\n",
      "Epoch 253/300\n",
      "105/105 [==============================] - 0s 92us/sample - loss: 0.7228 - acc: 0.7238 - val_loss: 0.7620 - val_acc: 0.6667\n",
      "Epoch 254/300\n",
      "105/105 [==============================] - 0s 105us/sample - loss: 0.7215 - acc: 0.7143 - val_loss: 0.7610 - val_acc: 0.6667\n",
      "Epoch 255/300\n",
      "105/105 [==============================] - 0s 137us/sample - loss: 0.7203 - acc: 0.7143 - val_loss: 0.7600 - val_acc: 0.6667\n",
      "Epoch 256/300\n",
      "105/105 [==============================] - 0s 123us/sample - loss: 0.7193 - acc: 0.7143 - val_loss: 0.7591 - val_acc: 0.6667\n",
      "Epoch 257/300\n",
      "105/105 [==============================] - 0s 144us/sample - loss: 0.7181 - acc: 0.7238 - val_loss: 0.7579 - val_acc: 0.7111\n",
      "Epoch 258/300\n",
      "105/105 [==============================] - 0s 130us/sample - loss: 0.7170 - acc: 0.7333 - val_loss: 0.7571 - val_acc: 0.6667\n",
      "Epoch 259/300\n",
      "105/105 [==============================] - 0s 146us/sample - loss: 0.7156 - acc: 0.7238 - val_loss: 0.7558 - val_acc: 0.7111\n",
      "Epoch 260/300\n",
      "105/105 [==============================] - 0s 131us/sample - loss: 0.7146 - acc: 0.7524 - val_loss: 0.7549 - val_acc: 0.7111\n",
      "Epoch 261/300\n",
      "105/105 [==============================] - 0s 139us/sample - loss: 0.7133 - acc: 0.7429 - val_loss: 0.7541 - val_acc: 0.7111\n",
      "Epoch 262/300\n",
      "105/105 [==============================] - 0s 131us/sample - loss: 0.7122 - acc: 0.7333 - val_loss: 0.7527 - val_acc: 0.7778\n",
      "Epoch 263/300\n",
      "105/105 [==============================] - 0s 149us/sample - loss: 0.7110 - acc: 0.7810 - val_loss: 0.7518 - val_acc: 0.8222\n",
      "Epoch 264/300\n",
      "105/105 [==============================] - 0s 138us/sample - loss: 0.7100 - acc: 0.8095 - val_loss: 0.7509 - val_acc: 0.8222\n",
      "Epoch 265/300\n",
      "105/105 [==============================] - 0s 108us/sample - loss: 0.7088 - acc: 0.8381 - val_loss: 0.7498 - val_acc: 0.8222\n",
      "Epoch 266/300\n",
      "105/105 [==============================] - 0s 114us/sample - loss: 0.7079 - acc: 0.8667 - val_loss: 0.7493 - val_acc: 0.8222\n",
      "Epoch 267/300\n",
      "105/105 [==============================] - 0s 110us/sample - loss: 0.7065 - acc: 0.8381 - val_loss: 0.7485 - val_acc: 0.8222\n",
      "Epoch 268/300\n",
      "105/105 [==============================] - 0s 129us/sample - loss: 0.7056 - acc: 0.8762 - val_loss: 0.7471 - val_acc: 0.8222\n",
      "Epoch 269/300\n",
      "105/105 [==============================] - 0s 109us/sample - loss: 0.7050 - acc: 0.8952 - val_loss: 0.7459 - val_acc: 0.8222\n",
      "Epoch 270/300\n",
      "105/105 [==============================] - 0s 137us/sample - loss: 0.7034 - acc: 0.8381 - val_loss: 0.7442 - val_acc: 0.7778\n",
      "Epoch 271/300\n",
      "105/105 [==============================] - 0s 118us/sample - loss: 0.7020 - acc: 0.8000 - val_loss: 0.7429 - val_acc: 0.7556\n",
      "Epoch 272/300\n",
      "105/105 [==============================] - 0s 133us/sample - loss: 0.7009 - acc: 0.7905 - val_loss: 0.7420 - val_acc: 0.7333\n",
      "Epoch 273/300\n",
      "105/105 [==============================] - 0s 133us/sample - loss: 0.6998 - acc: 0.7714 - val_loss: 0.7409 - val_acc: 0.7333\n",
      "Epoch 274/300\n",
      "105/105 [==============================] - 0s 121us/sample - loss: 0.6988 - acc: 0.7524 - val_loss: 0.7399 - val_acc: 0.7333\n",
      "Epoch 275/300\n",
      "105/105 [==============================] - 0s 108us/sample - loss: 0.6976 - acc: 0.8000 - val_loss: 0.7388 - val_acc: 0.7111\n",
      "Epoch 276/300\n",
      "105/105 [==============================] - 0s 140us/sample - loss: 0.6967 - acc: 0.7619 - val_loss: 0.7378 - val_acc: 0.7111\n",
      "Epoch 277/300\n",
      "105/105 [==============================] - 0s 114us/sample - loss: 0.6955 - acc: 0.7524 - val_loss: 0.7370 - val_acc: 0.7111\n",
      "Epoch 278/300\n",
      "105/105 [==============================] - 0s 103us/sample - loss: 0.6945 - acc: 0.7524 - val_loss: 0.7359 - val_acc: 0.7111\n",
      "Epoch 279/300\n",
      "105/105 [==============================] - 0s 139us/sample - loss: 0.6936 - acc: 0.7619 - val_loss: 0.7346 - val_acc: 0.6667\n",
      "Epoch 280/300\n",
      "105/105 [==============================] - 0s 101us/sample - loss: 0.6923 - acc: 0.7238 - val_loss: 0.7337 - val_acc: 0.6889\n",
      "Epoch 281/300\n",
      "105/105 [==============================] - 0s 116us/sample - loss: 0.6914 - acc: 0.7524 - val_loss: 0.7328 - val_acc: 0.7111\n",
      "Epoch 282/300\n",
      "105/105 [==============================] - 0s 110us/sample - loss: 0.6902 - acc: 0.7524 - val_loss: 0.7320 - val_acc: 0.7111\n",
      "Epoch 283/300\n",
      "105/105 [==============================] - 0s 163us/sample - loss: 0.6892 - acc: 0.7524 - val_loss: 0.7311 - val_acc: 0.7111\n",
      "Epoch 284/300\n",
      "105/105 [==============================] - 0s 119us/sample - loss: 0.6881 - acc: 0.7524 - val_loss: 0.7301 - val_acc: 0.7111\n",
      "Epoch 285/300\n",
      "105/105 [==============================] - 0s 106us/sample - loss: 0.6872 - acc: 0.7524 - val_loss: 0.7291 - val_acc: 0.7111\n",
      "Epoch 286/300\n",
      "105/105 [==============================] - 0s 118us/sample - loss: 0.6863 - acc: 0.7524 - val_loss: 0.7282 - val_acc: 0.7111\n",
      "Epoch 287/300\n",
      "105/105 [==============================] - 0s 112us/sample - loss: 0.6851 - acc: 0.7619 - val_loss: 0.7276 - val_acc: 0.7333\n",
      "Epoch 288/300\n",
      "105/105 [==============================] - 0s 110us/sample - loss: 0.6843 - acc: 0.7619 - val_loss: 0.7264 - val_acc: 0.7111\n",
      "Epoch 289/300\n",
      "105/105 [==============================] - 0s 151us/sample - loss: 0.6832 - acc: 0.7714 - val_loss: 0.7254 - val_acc: 0.6667\n",
      "Epoch 290/300\n",
      "105/105 [==============================] - 0s 110us/sample - loss: 0.6823 - acc: 0.7238 - val_loss: 0.7246 - val_acc: 0.6667\n",
      "Epoch 291/300\n",
      "105/105 [==============================] - 0s 134us/sample - loss: 0.6812 - acc: 0.7238 - val_loss: 0.7235 - val_acc: 0.6667\n",
      "Epoch 292/300\n",
      "105/105 [==============================] - 0s 109us/sample - loss: 0.6802 - acc: 0.7048 - val_loss: 0.7225 - val_acc: 0.6667\n",
      "Epoch 293/300\n",
      "105/105 [==============================] - 0s 128us/sample - loss: 0.6793 - acc: 0.7048 - val_loss: 0.7217 - val_acc: 0.6667\n",
      "Epoch 294/300\n",
      "105/105 [==============================] - 0s 148us/sample - loss: 0.6786 - acc: 0.7429 - val_loss: 0.7208 - val_acc: 0.6667\n",
      "Epoch 295/300\n",
      "105/105 [==============================] - 0s 121us/sample - loss: 0.6772 - acc: 0.7238 - val_loss: 0.7199 - val_acc: 0.6667\n",
      "Epoch 296/300\n",
      "105/105 [==============================] - 0s 119us/sample - loss: 0.6763 - acc: 0.7238 - val_loss: 0.7190 - val_acc: 0.6667\n",
      "Epoch 297/300\n",
      "105/105 [==============================] - 0s 115us/sample - loss: 0.6759 - acc: 0.7143 - val_loss: 0.7182 - val_acc: 0.6667\n",
      "Epoch 298/300\n",
      "105/105 [==============================] - 0s 123us/sample - loss: 0.6744 - acc: 0.7143 - val_loss: 0.7175 - val_acc: 0.6667\n",
      "Epoch 299/300\n",
      "105/105 [==============================] - 0s 121us/sample - loss: 0.6733 - acc: 0.7143 - val_loss: 0.7169 - val_acc: 0.6667\n",
      "Epoch 300/300\n",
      "105/105 [==============================] - 0s 114us/sample - loss: 0.6723 - acc: 0.7143 - val_loss: 0.7161 - val_acc: 0.6667\n"
     ]
    },
    {
     "data": {
      "text/plain": [
       "<tensorflow.python.keras.callbacks.History at 0x7ff804467c50>"
      ]
     },
     "execution_count": 251,
     "metadata": {
      "tags": []
     },
     "output_type": "execute_result"
    }
   ],
   "source": [
    "model.fit(trainX,trainy,          \n",
    "          validation_data=(testX,testy),\n",
    "          epochs=300,\n",
    "          batch_size=32) "
   ]
  },
  {
   "cell_type": "markdown",
   "metadata": {
    "colab_type": "text",
    "id": "y-SgSSdRcih5"
   },
   "source": [
    "### Model Prediction"
   ]
  },
  {
   "cell_type": "code",
   "execution_count": 0,
   "metadata": {
    "colab": {},
    "colab_type": "code",
    "id": "GBgKZkhkcih6"
   },
   "outputs": [],
   "source": [
    "input = np.array(testX[0:1])"
   ]
  },
  {
   "cell_type": "code",
   "execution_count": 259,
   "metadata": {
    "colab": {
     "base_uri": "https://localhost:8080/",
     "height": 34
    },
    "colab_type": "code",
    "executionInfo": {
     "elapsed": 962,
     "status": "ok",
     "timestamp": 1578828097017,
     "user": {
      "displayName": "Karthik Bramhambhatla",
      "photoUrl": "",
      "userId": "08439150467609654547"
     },
     "user_tz": -330
    },
    "id": "ta-txuf9eWMv",
    "outputId": "85e9e64b-90db-4adc-8eb3-1503288b193c"
   },
   "outputs": [
    {
     "data": {
      "text/plain": [
       "2"
      ]
     },
     "execution_count": 259,
     "metadata": {
      "tags": []
     },
     "output_type": "execute_result"
    }
   ],
   "source": [
    "pred = np.argmax(model.predict(input))\n",
    "pred"
   ]
  },
  {
   "cell_type": "markdown",
   "metadata": {
    "colab_type": "text",
    "id": "P32ASP1Vjt0a"
   },
   "source": [
    "### Save the Model"
   ]
  },
  {
   "cell_type": "code",
   "execution_count": 0,
   "metadata": {
    "colab": {},
    "colab_type": "code",
    "id": "n8rd0jjAjyTR"
   },
   "outputs": [],
   "source": [
    "model.save('Iris_v1.h5')"
   ]
  },
  {
   "cell_type": "markdown",
   "metadata": {
    "colab_type": "text",
    "id": "XiipRpe7rbVh"
   },
   "source": [
    "### Build and Train a Deep Neural network with 2 hidden layer  - Optional - For Practice\n",
    "\n",
    "Does it perform better than Linear Classifier? What could be the reason for difference in performance?"
   ]
  },
  {
   "cell_type": "code",
   "execution_count": 0,
   "metadata": {
    "colab": {},
    "colab_type": "code",
    "id": "v5Du3lubr4sA"
   },
   "outputs": [],
   "source": []
  }
 ],
 "metadata": {
  "colab": {
   "collapsed_sections": [],
   "name": "R6_Internal_Lab_UpdatedTF2_Prices_Iris-3.ipynb",
   "provenance": []
  },
  "kernelspec": {
   "display_name": "Python 3",
   "language": "python",
   "name": "python3"
  },
  "language_info": {
   "codemirror_mode": {
    "name": "ipython",
    "version": 3
   },
   "file_extension": ".py",
   "mimetype": "text/x-python",
   "name": "python",
   "nbconvert_exporter": "python",
   "pygments_lexer": "ipython3",
   "version": "3.7.3"
  }
 },
 "nbformat": 4,
 "nbformat_minor": 1
}
